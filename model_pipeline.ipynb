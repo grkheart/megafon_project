{
 "cells": [
  {
   "cell_type": "code",
   "execution_count": 1,
   "id": "d54d794a-42f0-4148-895c-ad6059e44ffe",
   "metadata": {},
   "outputs": [],
   "source": [
    "import pandas as pd\n",
    "import numpy as np\n",
    "\n",
    "from sklearn.model_selection import train_test_split, GridSearchCV, KFold\n",
    "from sklearn.feature_selection import SelectFromModel\n",
    "from sklearn.base import BaseEstimator, TransformerMixin\n",
    "from sklearn.pipeline import FeatureUnion, make_pipeline\n",
    "from sklearn.preprocessing import StandardScaler, OneHotEncoder\n",
    "from sklearn.metrics import classification_report, precision_recall_curve, roc_curve, auc, confusion_matrix\n",
    "from sklearn.impute import SimpleImputer\n",
    "from sklearn.linear_model import LogisticRegression\n",
    "from sklearn.ensemble import GradientBoostingClassifier\n",
    "from imblearn.under_sampling import RandomUnderSampler\n",
    "from sklearn.decomposition import PCA\n",
    "\n",
    "import matplotlib.pyplot as plt\n",
    "%matplotlib inline\n",
    "\n",
    "from pylab import rcParams\n",
    "rcParams['figure.figsize'] = 10, 8\n",
    "\n",
    "import pickle\n",
    "import itertools\n",
    "\n",
    "import warnings\n",
    "warnings.simplefilter('ignore')"
   ]
  },
  {
   "cell_type": "markdown",
   "id": "891becdf-0065-4989-abb5-8af8b97e5f93",
   "metadata": {},
   "source": [
    "Загружаем подготовленный тренировочный датасет с признаками:"
   ]
  },
  {
   "cell_type": "code",
   "execution_count": 2,
   "id": "9da85f87-149e-4349-8b84-8b5f552e6477",
   "metadata": {},
   "outputs": [],
   "source": [
    "train_data = pd.read_csv('train_data_features.csv')"
   ]
  },
  {
   "cell_type": "code",
   "execution_count": 3,
   "id": "6cd8af04-af60-48b5-b740-e0ee34a69db4",
   "metadata": {},
   "outputs": [
    {
     "name": "stdout",
     "output_type": "stream",
     "text": [
      "<class 'pandas.core.frame.DataFrame'>\n",
      "RangeIndex: 808738 entries, 0 to 808737\n",
      "Columns: 259 entries, id to month\n",
      "dtypes: float64(254), int64(5)\n",
      "memory usage: 1.6 GB\n"
     ]
    }
   ],
   "source": [
    "train_data.info()"
   ]
  },
  {
   "cell_type": "code",
   "execution_count": 4,
   "id": "ee80414f-ead8-444e-a03d-f7518d289eb6",
   "metadata": {},
   "outputs": [],
   "source": [
    "train_data[train_data.select_dtypes(np.float64).columns] = train_data.select_dtypes(np.float64).astype(np.float32)"
   ]
  },
  {
   "cell_type": "code",
   "execution_count": 5,
   "id": "f11ab747-02ea-4d5c-8add-835f0a711eee",
   "metadata": {},
   "outputs": [
    {
     "data": {
      "text/html": [
       "<div>\n",
       "<style scoped>\n",
       "    .dataframe tbody tr th:only-of-type {\n",
       "        vertical-align: middle;\n",
       "    }\n",
       "\n",
       "    .dataframe tbody tr th {\n",
       "        vertical-align: top;\n",
       "    }\n",
       "\n",
       "    .dataframe thead th {\n",
       "        text-align: right;\n",
       "    }\n",
       "</style>\n",
       "<table border=\"1\" class=\"dataframe\">\n",
       "  <thead>\n",
       "    <tr style=\"text-align: right;\">\n",
       "      <th></th>\n",
       "      <th>id</th>\n",
       "      <th>vas_id</th>\n",
       "      <th>target</th>\n",
       "      <th>0</th>\n",
       "      <th>1</th>\n",
       "      <th>2</th>\n",
       "      <th>3</th>\n",
       "      <th>4</th>\n",
       "      <th>5</th>\n",
       "      <th>6</th>\n",
       "      <th>...</th>\n",
       "      <th>246</th>\n",
       "      <th>247</th>\n",
       "      <th>248</th>\n",
       "      <th>249</th>\n",
       "      <th>250</th>\n",
       "      <th>251</th>\n",
       "      <th>252</th>\n",
       "      <th>day</th>\n",
       "      <th>week</th>\n",
       "      <th>month</th>\n",
       "    </tr>\n",
       "  </thead>\n",
       "  <tbody>\n",
       "    <tr>\n",
       "      <th>0</th>\n",
       "      <td>2814496</td>\n",
       "      <td>2</td>\n",
       "      <td>0.0</td>\n",
       "      <td>-96.799973</td>\n",
       "      <td>430.990875</td>\n",
       "      <td>-110.740784</td>\n",
       "      <td>378.383209</td>\n",
       "      <td>-116.158249</td>\n",
       "      <td>357.278198</td>\n",
       "      <td>-16.08618</td>\n",
       "      <td>...</td>\n",
       "      <td>-37.630447</td>\n",
       "      <td>-291.747711</td>\n",
       "      <td>-25.832888</td>\n",
       "      <td>-0.694429</td>\n",
       "      <td>-12.175933</td>\n",
       "      <td>-0.45614</td>\n",
       "      <td>0.0</td>\n",
       "      <td>9</td>\n",
       "      <td>1</td>\n",
       "      <td>7</td>\n",
       "    </tr>\n",
       "    <tr>\n",
       "      <th>1</th>\n",
       "      <td>212196</td>\n",
       "      <td>4</td>\n",
       "      <td>0.0</td>\n",
       "      <td>-96.799973</td>\n",
       "      <td>7.070888</td>\n",
       "      <td>-110.740784</td>\n",
       "      <td>-45.536797</td>\n",
       "      <td>-116.158249</td>\n",
       "      <td>-66.641792</td>\n",
       "      <td>-16.08618</td>\n",
       "      <td>...</td>\n",
       "      <td>-37.630447</td>\n",
       "      <td>-195.747726</td>\n",
       "      <td>-24.832888</td>\n",
       "      <td>-0.694429</td>\n",
       "      <td>-11.175933</td>\n",
       "      <td>-0.45614</td>\n",
       "      <td>0.0</td>\n",
       "      <td>9</td>\n",
       "      <td>1</td>\n",
       "      <td>7</td>\n",
       "    </tr>\n",
       "    <tr>\n",
       "      <th>2</th>\n",
       "      <td>3929509</td>\n",
       "      <td>2</td>\n",
       "      <td>0.0</td>\n",
       "      <td>-56.129971</td>\n",
       "      <td>164.690887</td>\n",
       "      <td>10.429214</td>\n",
       "      <td>1116.273193</td>\n",
       "      <td>5.011754</td>\n",
       "      <td>1095.168213</td>\n",
       "      <td>24.58382</td>\n",
       "      <td>...</td>\n",
       "      <td>-37.630447</td>\n",
       "      <td>-302.747711</td>\n",
       "      <td>-24.832888</td>\n",
       "      <td>-0.694429</td>\n",
       "      <td>-11.175933</td>\n",
       "      <td>-0.45614</td>\n",
       "      <td>0.0</td>\n",
       "      <td>9</td>\n",
       "      <td>1</td>\n",
       "      <td>7</td>\n",
       "    </tr>\n",
       "    <tr>\n",
       "      <th>3</th>\n",
       "      <td>2379697</td>\n",
       "      <td>2</td>\n",
       "      <td>0.0</td>\n",
       "      <td>-96.799973</td>\n",
       "      <td>100.290886</td>\n",
       "      <td>-110.740784</td>\n",
       "      <td>47.683201</td>\n",
       "      <td>-116.158249</td>\n",
       "      <td>26.578211</td>\n",
       "      <td>-16.08618</td>\n",
       "      <td>...</td>\n",
       "      <td>-37.630447</td>\n",
       "      <td>-220.747726</td>\n",
       "      <td>-22.832888</td>\n",
       "      <td>-0.694429</td>\n",
       "      <td>-10.175933</td>\n",
       "      <td>-0.45614</td>\n",
       "      <td>0.0</td>\n",
       "      <td>9</td>\n",
       "      <td>1</td>\n",
       "      <td>7</td>\n",
       "    </tr>\n",
       "  </tbody>\n",
       "</table>\n",
       "<p>4 rows × 259 columns</p>\n",
       "</div>"
      ],
      "text/plain": [
       "        id  vas_id  target          0           1           2            3  \\\n",
       "0  2814496       2     0.0 -96.799973  430.990875 -110.740784   378.383209   \n",
       "1   212196       4     0.0 -96.799973    7.070888 -110.740784   -45.536797   \n",
       "2  3929509       2     0.0 -56.129971  164.690887   10.429214  1116.273193   \n",
       "3  2379697       2     0.0 -96.799973  100.290886 -110.740784    47.683201   \n",
       "\n",
       "            4            5         6  ...        246         247        248  \\\n",
       "0 -116.158249   357.278198 -16.08618  ... -37.630447 -291.747711 -25.832888   \n",
       "1 -116.158249   -66.641792 -16.08618  ... -37.630447 -195.747726 -24.832888   \n",
       "2    5.011754  1095.168213  24.58382  ... -37.630447 -302.747711 -24.832888   \n",
       "3 -116.158249    26.578211 -16.08618  ... -37.630447 -220.747726 -22.832888   \n",
       "\n",
       "        249        250      251  252  day  week  month  \n",
       "0 -0.694429 -12.175933 -0.45614  0.0    9     1      7  \n",
       "1 -0.694429 -11.175933 -0.45614  0.0    9     1      7  \n",
       "2 -0.694429 -11.175933 -0.45614  0.0    9     1      7  \n",
       "3 -0.694429 -10.175933 -0.45614  0.0    9     1      7  \n",
       "\n",
       "[4 rows x 259 columns]"
      ]
     },
     "execution_count": 5,
     "metadata": {},
     "output_type": "execute_result"
    }
   ],
   "source": [
    "train_data.head(4)"
   ]
  },
  {
   "cell_type": "markdown",
   "id": "5c2fab4f-6e32-480a-a40d-6d1afc341eb7",
   "metadata": {},
   "source": [
    "#### Работа с признаками"
   ]
  },
  {
   "cell_type": "markdown",
   "id": "8696d36f-1610-4237-942a-d97f470b1a91",
   "metadata": {},
   "source": [
    "Разделим признаки и целевую переменную:"
   ]
  },
  {
   "cell_type": "code",
   "execution_count": 6,
   "id": "f571b990-57e6-430b-8bf6-e2d1a7fc92f9",
   "metadata": {},
   "outputs": [],
   "source": [
    "data_prelim = train_data.copy()\n",
    "\n",
    "X = data_prelim.drop('target', axis=1)\n",
    "y = data_prelim['target']"
   ]
  },
  {
   "cell_type": "code",
   "execution_count": 7,
   "id": "9fe3823e-87ae-4e7c-b064-af8b6e9698c2",
   "metadata": {},
   "outputs": [
    {
     "name": "stdout",
     "output_type": "stream",
     "text": [
      "ID уникален? True\n",
      "Есть ли дубли в строках? 0\n",
      "Сколько процент признаков могут принимать null-значениями? 0.00%\n"
     ]
    }
   ],
   "source": [
    "print('ID уникален?', X.index.is_unique)\n",
    "print('Есть ли дубли в строках?', X.duplicated().sum())\n",
    "print(f'Сколько процент признаков могут принимать null-значениями? {float((X.isnull().sum() > 0).sum() / X.shape[1]):.2%}')"
   ]
  },
  {
   "cell_type": "code",
   "execution_count": 8,
   "id": "9900ae9e-72aa-40b6-840e-35d84a10b23c",
   "metadata": {},
   "outputs": [
    {
     "data": {
      "text/plain": [
       "0.0    0.944645\n",
       "1.0    0.055355\n",
       "Name: target, dtype: float64"
      ]
     },
     "execution_count": 8,
     "metadata": {},
     "output_type": "execute_result"
    },
    {
     "data": {
      "image/png": "[encoded data removed]",
      "text/plain": [
       "<Figure size 720x576 with 1 Axes>"
      ]
     },
     "metadata": {
      "needs_background": "light"
     },
     "output_type": "display_data"
    }
   ],
   "source": [
    "(y.value_counts() / y.shape[0]).plot(kind='bar', title='Распределение целевой переменной');\n",
    "y.value_counts() / y.shape"
   ]
  },
  {
   "cell_type": "markdown",
   "id": "c76dda4d-d39b-4edc-a1ec-baecb51cef5a",
   "metadata": {},
   "source": [
    "Наблюдается некоторый дисбаланс в распределении целевой переменной, поэтому в дальнейшем попробуем сделать балансировку данных."
   ]
  },
  {
   "cell_type": "code",
   "execution_count": 9,
   "id": "bdf3ad96-912e-4d0d-84a7-657afeba4b91",
   "metadata": {},
   "outputs": [],
   "source": [
    "X_nunique = X.apply(lambda x: x.nunique(dropna=False))"
   ]
  },
  {
   "cell_type": "code",
   "execution_count": 10,
   "id": "18ac6d0d-ba69-4661-872c-e45414958429",
   "metadata": {},
   "outputs": [
    {
     "data": {
      "text/plain": [
       "(258,)"
      ]
     },
     "execution_count": 10,
     "metadata": {},
     "output_type": "execute_result"
    }
   ],
   "source": [
    "X_nunique.shape"
   ]
  },
  {
   "cell_type": "code",
   "execution_count": 11,
   "id": "2c3c3184-592b-4df3-b8c3-3d64b5d0ff04",
   "metadata": {},
   "outputs": [
    {
     "data": {
      "text/plain": [
       "258"
      ]
     },
     "execution_count": 11,
     "metadata": {},
     "output_type": "execute_result"
    }
   ],
   "source": [
    "f_all = set(X_nunique.index.tolist())\n",
    "len(f_all)"
   ]
  },
  {
   "cell_type": "code",
   "execution_count": 12,
   "id": "22de5a35-05bc-4238-8ddd-850f4d3a21d0",
   "metadata": {},
   "outputs": [
    {
     "data": {
      "image/png": "[encoded data removed]",
      "text/plain": [
       "<Figure size 720x576 with 1 Axes>"
      ]
     },
     "metadata": {
      "needs_background": "light"
     },
     "output_type": "display_data"
    }
   ],
   "source": [
    "plt.title('Распределение уникальных значений признаков');\n",
    "X_nunique.hist();"
   ]
  },
  {
   "cell_type": "markdown",
   "id": "86aada28-71e3-4fa7-90d0-f6cab433219c",
   "metadata": {},
   "source": [
    "Отберём константные признаки:"
   ]
  },
  {
   "cell_type": "code",
   "execution_count": 13,
   "id": "8b289b36-125b-4273-9309-f40f6a02ccd2",
   "metadata": {},
   "outputs": [
    {
     "data": {
      "text/plain": [
       "(5, 253)"
      ]
     },
     "execution_count": 13,
     "metadata": {},
     "output_type": "execute_result"
    }
   ],
   "source": [
    "f_const = set(X_nunique[X_nunique == 1].index.tolist())\n",
    "\n",
    "f_other = f_all - f_const\n",
    "\n",
    "len(f_const), len(f_other)"
   ]
  },
  {
   "cell_type": "markdown",
   "id": "74f3a385-08e3-410a-84df-3a57ceb321f3",
   "metadata": {},
   "source": [
    "Отберём бинарные признаки:"
   ]
  },
  {
   "cell_type": "code",
   "execution_count": 14,
   "id": "e0ae7693-f31e-4c06-87a6-89fb4e92bb54",
   "metadata": {},
   "outputs": [
    {
     "data": {
      "text/plain": [
       "(0, 253)"
      ]
     },
     "execution_count": 14,
     "metadata": {},
     "output_type": "execute_result"
    }
   ],
   "source": [
    "f_binary = set(X.loc[:, f_other].columns[(\n",
    "    (X.loc[:, f_other].max() == 1) & \\\n",
    "    (X.loc[:, f_other].min() == 0) & \\\n",
    "    (X.loc[:, f_other].isnull().sum() == 0))])\n",
    "\n",
    "f_other = f_other - f_binary\n",
    "\n",
    "len(f_binary), len(f_other)"
   ]
  },
  {
   "cell_type": "markdown",
   "id": "4de939eb-3ae6-4b02-9bb1-63ee7fa8e9a7",
   "metadata": {},
   "source": [
    "Отберём категориальные признаки:"
   ]
  },
  {
   "cell_type": "code",
   "execution_count": 15,
   "id": "9bf60a6c-4a81-4e0f-b682-db38bd65102c",
   "metadata": {},
   "outputs": [
    {
     "data": {
      "text/plain": [
       "(32, 221)"
      ]
     },
     "execution_count": 15,
     "metadata": {},
     "output_type": "execute_result"
    }
   ],
   "source": [
    "f_categorical = set(X_nunique.loc[f_other][X_nunique.loc[f_other] <= 10].index.tolist())\n",
    "\n",
    "f_other = f_other - f_categorical\n",
    "\n",
    "len(f_categorical), len(f_other)"
   ]
  },
  {
   "cell_type": "markdown",
   "id": "f0237764-1ada-4d7f-8638-913818cd1cef",
   "metadata": {},
   "source": [
    "Отберём вещественные признаки:"
   ]
  },
  {
   "cell_type": "code",
   "execution_count": 16,
   "id": "6aad65b7-d318-477b-bf7f-24510f713ec9",
   "metadata": {},
   "outputs": [
    {
     "data": {
      "text/plain": [
       "(218, 3)"
      ]
     },
     "execution_count": 16,
     "metadata": {},
     "output_type": "execute_result"
    }
   ],
   "source": [
    "f_numeric = (X[f_other].fillna(0).astype(int).sum() - X[f_other].fillna(0).sum()).abs() \n",
    "f_numeric = set(f_numeric[f_numeric > 0].index.tolist())\n",
    "\n",
    "f_other = f_other - f_numeric\n",
    "\n",
    "len(f_numeric), len(f_other)"
   ]
  },
  {
   "cell_type": "code",
   "execution_count": 17,
   "id": "2fa5ae3b-fc25-4fbe-a6f8-11c8e6bc6aa6",
   "metadata": {},
   "outputs": [
    {
     "data": {
      "text/plain": [
       "0"
      ]
     },
     "execution_count": 17,
     "metadata": {},
     "output_type": "execute_result"
    }
   ],
   "source": [
    "f_numeric = f_numeric | f_other\n",
    "f_other = f_other - f_numeric\n",
    "\n",
    "len(f_other)"
   ]
  },
  {
   "cell_type": "code",
   "execution_count": 18,
   "id": "f5f6b51f-a5a7-4219-92f6-ad615ab7a74a",
   "metadata": {},
   "outputs": [],
   "source": [
    "assert(X_nunique.shape[0] == len(f_const) + len(f_binary) + len(f_categorical) + len(f_numeric))"
   ]
  },
  {
   "cell_type": "code",
   "execution_count": 19,
   "id": "5b8d3f80-f2d3-4845-a2a9-c30748c02b06",
   "metadata": {},
   "outputs": [
    {
     "name": "stdout",
     "output_type": "stream",
     "text": [
      "f_all: 258\n",
      "\n",
      "f_const: 5\n",
      "f_binary: 0\n",
      "f_categorical: 32\n",
      "f_numeric: 221\n"
     ]
    }
   ],
   "source": [
    "print('f_all:', len(f_all))\n",
    "print()\n",
    "print('f_const:', len(f_const))\n",
    "print('f_binary:', len(f_binary))\n",
    "print('f_categorical:', len(f_categorical))\n",
    "print('f_numeric:', len(f_numeric))\n",
    "\n",
    "f_ok = list(f_binary | f_categorical | f_numeric)\n",
    "f_binary, f_categorical, f_numeric = list(f_binary), list(f_categorical), list(f_numeric)"
   ]
  },
  {
   "cell_type": "markdown",
   "id": "e1a0c39b-7f97-43e0-accd-0be73b36b8c3",
   "metadata": {},
   "source": [
    "#### Train / Test"
   ]
  },
  {
   "cell_type": "code",
   "execution_count": 20,
   "id": "ad08b625-0ff4-4611-badc-a8e58f38359b",
   "metadata": {},
   "outputs": [],
   "source": [
    "RANDOM_STATE = 41"
   ]
  },
  {
   "cell_type": "code",
   "execution_count": 21,
   "id": "0f8e1190-52f3-4ef2-a968-6e8f3f2f9ef5",
   "metadata": {},
   "outputs": [],
   "source": [
    "train_idx, test_idx = train_test_split(X.index, test_size=0.25, random_state=RANDOM_STATE)\n",
    "\n",
    "y_train, y_test = y.loc[train_idx], y.loc[test_idx]\n",
    "X_train, X_test = X.loc[train_idx], X.loc[test_idx]"
   ]
  },
  {
   "cell_type": "markdown",
   "id": "4d6ca975-bcf6-4302-9015-a1b0d6109706",
   "metadata": {},
   "source": [
    "#### Балансировка данных"
   ]
  },
  {
   "cell_type": "markdown",
   "id": "d79f1880-15e6-480b-ab0e-afa3ef5035cd",
   "metadata": {},
   "source": [
    "Выполним балансировку данных в тренировочной выборке при помощи RandomUnderSampler:"
   ]
  },
  {
   "cell_type": "code",
   "execution_count": 22,
   "id": "45a52853-9033-4a4e-ad0f-189d374aa8f9",
   "metadata": {},
   "outputs": [
    {
     "name": "stdout",
     "output_type": "stream",
     "text": [
      "Train\n",
      "0.0    0.5\n",
      "1.0    0.5\n",
      "Name: target, dtype: float64\n",
      "\n",
      "Test\n",
      "0.0    0.943868\n",
      "1.0    0.056132\n",
      "Name: target, dtype: float64\n"
     ]
    }
   ],
   "source": [
    "rus = RandomUnderSampler(random_state=RANDOM_STATE)\n",
    "X_train, y_train = rus.fit_resample(X_train, y_train)\n",
    "\n",
    "print('Train')\n",
    "print(y_train.value_counts() / y_train.shape[0])\n",
    "print()\n",
    "print('Test')\n",
    "print(y_test.value_counts() / y_test.shape[0])"
   ]
  },
  {
   "cell_type": "markdown",
   "id": "52ca38d5-a63f-4368-a24b-b858a8d37992",
   "metadata": {},
   "source": [
    "#### Построение пайплайнов, обучение моделей"
   ]
  },
  {
   "cell_type": "code",
   "execution_count": 23,
   "id": "eb3c159e-62b4-4072-9544-e901acd787c6",
   "metadata": {},
   "outputs": [],
   "source": [
    "class ColumnSelector(BaseEstimator, TransformerMixin):\n",
    "    def __init__(self, columns):\n",
    "        self.columns = columns\n",
    "\n",
    "    def fit(self, X, y=None):\n",
    "        return self\n",
    "    \n",
    "    def transform(self, X):\n",
    "        assert isinstance(X, pd.DataFrame)\n",
    "\n",
    "        try:\n",
    "            return X[self.columns]\n",
    "        except KeyError:\n",
    "            cols_error = list(set(self.columns) - set(X.columns))\n",
    "            raise KeyError(f'DataFrame не содержит следующие колонки: {cols_error}')"
   ]
  },
  {
   "cell_type": "code",
   "execution_count": 24,
   "id": "8365832c-97a1-4a68-828f-3648d8aa4009",
   "metadata": {},
   "outputs": [],
   "source": [
    "f_prep_pipeline = make_pipeline(\n",
    "    ColumnSelector(columns=f_ok),\n",
    "    FeatureUnion(transformer_list=[\n",
    "        ('numeric_features', make_pipeline(\n",
    "            ColumnSelector(f_numeric),\n",
    "            SimpleImputer(strategy=\"mean\"),\n",
    "            StandardScaler(),\n",
    "            PCA()\n",
    "        )),\n",
    "        ('categorical_features', make_pipeline(\n",
    "            ColumnSelector(f_categorical),\n",
    "            SimpleImputer(strategy='most_frequent'),\n",
    "            OneHotEncoder(handle_unknown='ignore')\n",
    "        )),\n",
    "        ('boolean_features', make_pipeline(\n",
    "            ColumnSelector(f_binary)\n",
    "        ))\n",
    "    ])\n",
    ")"
   ]
  },
  {
   "cell_type": "code",
   "execution_count": 25,
   "id": "ef255c18-5a4b-4e68-9720-db1f9ee5094f",
   "metadata": {},
   "outputs": [
    {
     "data": {
      "text/plain": [
       "[('columnselector',\n",
       "  ColumnSelector(columns=['224', '87', '122', '199', '8', '137', '217', '44',\n",
       "                          '25', '248', '80', '37', '74', '26', '107', '227', '22',\n",
       "                          '192', '180', '13', '168', '117', '105', '118', '102',\n",
       "                          '236', '42', '152', '47', '70', ...])),\n",
       " ('featureunion',\n",
       "  FeatureUnion(transformer_list=[('numeric_features',\n",
       "                                  Pipeline(steps=[('columnselector',\n",
       "                                                   ColumnSelector(columns=['224',\n",
       "                                                                           '87',\n",
       "                                                                           '122',\n",
       "                                                                           '8',\n",
       "                                                                           '137',\n",
       "                                                                           '217',\n",
       "                                                                           '44',\n",
       "                                                                           '25',\n",
       "                                                                           '248',\n",
       "                                                                           '173',\n",
       "                                                                           '80',\n",
       "                                                                           '37',\n",
       "                                                                           '74',\n",
       "                                                                           '107',\n",
       "                                                                           '227',\n",
       "                                                                           '22',\n",
       "                                                                           '180',\n",
       "                                                                           '13',\n",
       "                                                                           '168',\n",
       "                                                                           '117',\n",
       "                                                                           '105',\n",
       "                                                                           '118',\n",
       "                                                                           '102',\n",
       "                                                                           '236',\n",
       "                                                                           '42',\n",
       "                                                                           '152',\n",
       "                                                                           '47',\n",
       "                                                                           '70',\n",
       "                                                                           '148',\n",
       "                                                                           '114', ...])),\n",
       "                                                  ('simpleimputer',\n",
       "                                                   SimpleImputer()),\n",
       "                                                  ('standardscaler',\n",
       "                                                   StandardScaler(...\n",
       "                                                                           '201',\n",
       "                                                                           '23',\n",
       "                                                                           '194',\n",
       "                                                                           '30',\n",
       "                                                                           '131',\n",
       "                                                                           '31',\n",
       "                                                                           '26',\n",
       "                                                                           'month',\n",
       "                                                                           'week',\n",
       "                                                                           '192',\n",
       "                                                                           '29',\n",
       "                                                                           '218',\n",
       "                                                                           '154',\n",
       "                                                                           '15',\n",
       "                                                                           '132',\n",
       "                                                                           '196',\n",
       "                                                                           '33',\n",
       "                                                                           '195',\n",
       "                                                                           '27',\n",
       "                                                                           '206',\n",
       "                                                                           '198',\n",
       "                                                                           '204',\n",
       "                                                                           '95',\n",
       "                                                                           '197',\n",
       "                                                                           '216', ...])),\n",
       "                                                  ('simpleimputer',\n",
       "                                                   SimpleImputer(strategy='most_frequent')),\n",
       "                                                  ('onehotencoder',\n",
       "                                                   OneHotEncoder(handle_unknown='ignore'))])),\n",
       "                                 ('boolean_features',\n",
       "                                  Pipeline(steps=[('columnselector',\n",
       "                                                   ColumnSelector(columns=[]))]))]))]"
      ]
     },
     "execution_count": 25,
     "metadata": {},
     "output_type": "execute_result"
    }
   ],
   "source": [
    "f_prep_pipeline.steps"
   ]
  },
  {
   "cell_type": "code",
   "execution_count": 26,
   "id": "6b68183e-385f-4d14-a0b9-6979e373b334",
   "metadata": {},
   "outputs": [
    {
     "data": {
      "text/plain": [
       "258"
      ]
     },
     "execution_count": 26,
     "metadata": {},
     "output_type": "execute_result"
    }
   ],
   "source": [
    "X_test.shape[1]"
   ]
  },
  {
   "cell_type": "code",
   "execution_count": 27,
   "id": "d06291e0-ff30-4714-b33d-811edb623123",
   "metadata": {},
   "outputs": [
    {
     "data": {
      "text/plain": [
       "305"
      ]
     },
     "execution_count": 27,
     "metadata": {},
     "output_type": "execute_result"
    }
   ],
   "source": [
    "f_prep_pipeline.fit(X_train)\n",
    "\n",
    "n_features = f_prep_pipeline.transform(X_test).shape[1]\n",
    "n_features"
   ]
  },
  {
   "cell_type": "markdown",
   "id": "c90078c1-4efb-4dd2-8242-bbd3e3c792cc",
   "metadata": {},
   "source": [
    "Для автоматического подбора параметров будем использовать GridSearchCV:"
   ]
  },
  {
   "cell_type": "code",
   "execution_count": 28,
   "id": "bf97f023-5b55-40e8-9e6f-5cf078994aa8",
   "metadata": {},
   "outputs": [],
   "source": [
    "def run_grid_search(estimator, X, y, params_grid, cv, scoring='roc_auc'):\n",
    "    gsc = GridSearchCV(estimator, params_grid, scoring=scoring, cv=cv, n_jobs=-1)\n",
    "\n",
    "    gsc.fit(X, y)\n",
    "    print('Best %s score: %.2f' % (scoring, gsc.best_score_))\n",
    "    print()\n",
    "    print('Best parameters set found on development set:')\n",
    "    print()\n",
    "    print(gsc.best_params_)\n",
    "    print()\n",
    "    print('Grid scores on development set:')\n",
    "    print()\n",
    "\n",
    "    for i, params in enumerate(gsc.cv_results_['params']):\n",
    "        print('%0.3f (+/-%0.03f) for %r'\n",
    "              % (gsc.cv_results_['mean_test_score'][i], gsc.cv_results_['std_test_score'][i] * 2, params))\n",
    "\n",
    "    print()\n",
    "    \n",
    "    return gsc"
   ]
  },
  {
   "cell_type": "code",
   "execution_count": 29,
   "id": "8960f37d-8c4f-4fe3-8a06-c747ca8c1b43",
   "metadata": {},
   "outputs": [],
   "source": [
    "kfold_cv = KFold(n_splits=3, shuffle=True, random_state=RANDOM_STATE)"
   ]
  },
  {
   "cell_type": "markdown",
   "id": "76d55fce-1e93-4b5f-ac4d-92d1252d20f5",
   "metadata": {},
   "source": [
    "Попробуем несколько моделей:"
   ]
  },
  {
   "cell_type": "markdown",
   "id": "29766e68-1da5-4909-8169-1ff066a3633c",
   "metadata": {},
   "source": [
    "1) LogisticRegression"
   ]
  },
  {
   "cell_type": "code",
   "execution_count": 30,
   "id": "9ebfae84-e5a1-49ea-a9f9-1e3d93cf3971",
   "metadata": {},
   "outputs": [],
   "source": [
    "lg_pipe = make_pipeline(\n",
    "    f_prep_pipeline,\n",
    "    LogisticRegression(random_state=RANDOM_STATE)\n",
    ")"
   ]
  },
  {
   "cell_type": "code",
   "execution_count": 31,
   "id": "afcf851a-37a8-4ab9-bf57-10bee0b18c58",
   "metadata": {},
   "outputs": [
    {
     "name": "stdout",
     "output_type": "stream",
     "text": [
      "Best roc_auc score: 0.91\n",
      "\n",
      "Best parameters set found on development set:\n",
      "\n",
      "{'pipeline__featureunion__categorical_features__simpleimputer__fill_value': -1, 'pipeline__featureunion__categorical_features__simpleimputer__strategy': 'most_frequent'}\n",
      "\n",
      "Grid scores on development set:\n",
      "\n",
      "0.908 (+/-0.002) for {'pipeline__featureunion__categorical_features__simpleimputer__fill_value': -1, 'pipeline__featureunion__categorical_features__simpleimputer__strategy': 'most_frequent'}\n",
      "0.908 (+/-0.002) for {'pipeline__featureunion__categorical_features__simpleimputer__fill_value': -1, 'pipeline__featureunion__categorical_features__simpleimputer__strategy': 'constant'}\n",
      "\n"
     ]
    }
   ],
   "source": [
    "param_grid = {\n",
    "    'pipeline__featureunion__categorical_features__simpleimputer__strategy': ['most_frequent', 'constant'],\n",
    "    'pipeline__featureunion__categorical_features__simpleimputer__fill_value': [-1],\n",
    "}\n",
    "\n",
    "lg_gsc = run_grid_search(lg_pipe, X_train, y_train, param_grid, kfold_cv)"
   ]
  },
  {
   "cell_type": "markdown",
   "id": "c2562b90-132f-4bf7-9be3-9a5dfa69ec4c",
   "metadata": {},
   "source": [
    "Разницы нет, оставим по умолчанию."
   ]
  },
  {
   "cell_type": "code",
   "execution_count": 32,
   "id": "81142277-8bd3-4a47-ac90-15cdd941d588",
   "metadata": {},
   "outputs": [
    {
     "name": "stdout",
     "output_type": "stream",
     "text": [
      "Best roc_auc score: 0.91\n",
      "\n",
      "Best parameters set found on development set:\n",
      "\n",
      "{'logisticregression__C': 5.0, 'logisticregression__penalty': 'l2'}\n",
      "\n",
      "Grid scores on development set:\n",
      "\n",
      "nan (+/-nan) for {'logisticregression__C': 0.01, 'logisticregression__penalty': 'l1'}\n",
      "0.906 (+/-0.003) for {'logisticregression__C': 0.01, 'logisticregression__penalty': 'l2'}\n",
      "nan (+/-nan) for {'logisticregression__C': 0.1, 'logisticregression__penalty': 'l1'}\n",
      "0.908 (+/-0.003) for {'logisticregression__C': 0.1, 'logisticregression__penalty': 'l2'}\n",
      "nan (+/-nan) for {'logisticregression__C': 5.0, 'logisticregression__penalty': 'l1'}\n",
      "0.908 (+/-0.002) for {'logisticregression__C': 5.0, 'logisticregression__penalty': 'l2'}\n",
      "\n"
     ]
    }
   ],
   "source": [
    "param_grid = {\n",
    "    'logisticregression__penalty': ['l1', 'l2'],\n",
    "    'logisticregression__C': [0.01, 0.1, 5.0]\n",
    "}\n",
    "\n",
    "lg_gsc = run_grid_search(lg_pipe, X_train, y_train, param_grid, kfold_cv)"
   ]
  },
  {
   "cell_type": "markdown",
   "id": "133dd10a-7d30-40c2-9ace-0356e9298ec8",
   "metadata": {},
   "source": [
    "Будем использовать l2 регулиризацию."
   ]
  },
  {
   "cell_type": "code",
   "execution_count": 33,
   "id": "372fb154-63da-4b0b-bcc4-1442e5dcc860",
   "metadata": {},
   "outputs": [],
   "source": [
    "fs_pipe = make_pipeline(\n",
    "    f_prep_pipeline,\n",
    "    SelectFromModel(LogisticRegression(penalty='l2', random_state=RANDOM_STATE), threshold=1e-5),\n",
    ")"
   ]
  },
  {
   "cell_type": "code",
   "execution_count": 34,
   "id": "dec2b182-981a-427b-a3e9-fa17f8c212c1",
   "metadata": {},
   "outputs": [
    {
     "data": {
      "text/plain": [
       "(202185, 305)"
      ]
     },
     "execution_count": 34,
     "metadata": {},
     "output_type": "execute_result"
    }
   ],
   "source": [
    "f_prep_pipeline.fit(X_train)\n",
    "f_prep_pipeline.transform(X_test).shape"
   ]
  },
  {
   "cell_type": "code",
   "execution_count": 35,
   "id": "6c5202e4-2a42-4854-abb5-83f382b593c4",
   "metadata": {},
   "outputs": [
    {
     "data": {
      "text/plain": [
       "(202185, 290)"
      ]
     },
     "execution_count": 35,
     "metadata": {},
     "output_type": "execute_result"
    }
   ],
   "source": [
    "fs_pipe.fit(X_train, y_train)\n",
    "fs_pipe.transform(X_test).shape"
   ]
  },
  {
   "cell_type": "markdown",
   "id": "91f45232-8147-4ca8-b524-1a42d5f81ac0",
   "metadata": {},
   "source": [
    "Видим, что 15 признаков не являются значимыми."
   ]
  },
  {
   "cell_type": "code",
   "execution_count": 36,
   "id": "147c2966-ccda-43b8-aea4-29f9718ac499",
   "metadata": {},
   "outputs": [],
   "source": [
    "lg_fs_pipe = make_pipeline(\n",
    "    f_prep_pipeline,\n",
    "    SelectFromModel(LogisticRegression(penalty='l2', random_state=RANDOM_STATE), threshold=1e-5),\n",
    "    LogisticRegression(random_state=RANDOM_STATE)\n",
    ")"
   ]
  },
  {
   "cell_type": "code",
   "execution_count": 37,
   "id": "7a9daee5-816d-4282-b10f-068872f8ca09",
   "metadata": {},
   "outputs": [
    {
     "name": "stdout",
     "output_type": "stream",
     "text": [
      "Best roc_auc score: 0.91\n",
      "\n",
      "Best parameters set found on development set:\n",
      "\n",
      "{'selectfrommodel__max_features': 150, 'selectfrommodel__threshold': -inf}\n",
      "\n",
      "Grid scores on development set:\n",
      "\n",
      "0.908 (+/-0.002) for {'selectfrommodel__max_features': None, 'selectfrommodel__threshold': -inf}\n",
      "0.895 (+/-0.003) for {'selectfrommodel__max_features': 5, 'selectfrommodel__threshold': -inf}\n",
      "0.899 (+/-0.003) for {'selectfrommodel__max_features': 10, 'selectfrommodel__threshold': -inf}\n",
      "0.906 (+/-0.004) for {'selectfrommodel__max_features': 50, 'selectfrommodel__threshold': -inf}\n",
      "0.908 (+/-0.002) for {'selectfrommodel__max_features': 100, 'selectfrommodel__threshold': -inf}\n",
      "0.908 (+/-0.002) for {'selectfrommodel__max_features': 150, 'selectfrommodel__threshold': -inf}\n",
      "0.908 (+/-0.002) for {'selectfrommodel__threshold': 1e-05}\n",
      "\n",
      "Wall time: 1min 5s\n"
     ]
    }
   ],
   "source": [
    "%%time\n",
    "\n",
    "param_grid = [\n",
    "    {'selectfrommodel__max_features': [None, 5, 10, 50, 100, 150], 'selectfrommodel__threshold': [-np.inf]},\n",
    "    {'selectfrommodel__threshold': [1e-5]},\n",
    "]\n",
    "\n",
    "lg_fs_gsc = run_grid_search(lg_fs_pipe, X_train, y_train, param_grid, kfold_cv)"
   ]
  },
  {
   "cell_type": "markdown",
   "id": "01e90813-ba7f-4e0d-a1be-9e3d7f639ef2",
   "metadata": {},
   "source": [
    "Оптимально будет использовать топ 150 признаков."
   ]
  },
  {
   "cell_type": "markdown",
   "id": "5a5a81b7-9638-4359-be71-c37143e1eff6",
   "metadata": {},
   "source": [
    "2) GradientBoostingClassifier"
   ]
  },
  {
   "cell_type": "code",
   "execution_count": 38,
   "id": "764c52b8-f119-4480-8961-943401819c87",
   "metadata": {},
   "outputs": [],
   "source": [
    "gb_fs_pipe = make_pipeline(\n",
    "    f_prep_pipeline,\n",
    "    SelectFromModel(LogisticRegression(penalty='l2', random_state=RANDOM_STATE), max_features=150, threshold=-np.inf),\n",
    "    GradientBoostingClassifier(random_state=RANDOM_STATE)\n",
    ")"
   ]
  },
  {
   "cell_type": "code",
   "execution_count": 39,
   "id": "8db53883-625b-4b1d-9fbf-fa5cdb833524",
   "metadata": {},
   "outputs": [
    {
     "name": "stdout",
     "output_type": "stream",
     "text": [
      "Best roc_auc score: 0.92\n",
      "\n",
      "Best parameters set found on development set:\n",
      "\n",
      "{'gradientboostingclassifier__max_depth': 5, 'gradientboostingclassifier__n_estimators': 100, 'selectfrommodel__threshold': -inf}\n",
      "\n",
      "Grid scores on development set:\n",
      "\n",
      "0.891 (+/-0.004) for {'gradientboostingclassifier__max_depth': 1, 'gradientboostingclassifier__n_estimators': 10, 'selectfrommodel__threshold': -inf}\n",
      "0.891 (+/-0.004) for {'gradientboostingclassifier__max_depth': 1, 'gradientboostingclassifier__n_estimators': 10, 'selectfrommodel__threshold': 1e-05}\n",
      "0.902 (+/-0.003) for {'gradientboostingclassifier__max_depth': 1, 'gradientboostingclassifier__n_estimators': 100, 'selectfrommodel__threshold': -inf}\n",
      "0.902 (+/-0.003) for {'gradientboostingclassifier__max_depth': 1, 'gradientboostingclassifier__n_estimators': 100, 'selectfrommodel__threshold': 1e-05}\n",
      "0.915 (+/-0.004) for {'gradientboostingclassifier__max_depth': 5, 'gradientboostingclassifier__n_estimators': 10, 'selectfrommodel__threshold': -inf}\n",
      "0.915 (+/-0.004) for {'gradientboostingclassifier__max_depth': 5, 'gradientboostingclassifier__n_estimators': 10, 'selectfrommodel__threshold': 1e-05}\n",
      "0.915 (+/-0.004) for {'gradientboostingclassifier__max_depth': 5, 'gradientboostingclassifier__n_estimators': 100, 'selectfrommodel__threshold': -inf}\n",
      "0.915 (+/-0.004) for {'gradientboostingclassifier__max_depth': 5, 'gradientboostingclassifier__n_estimators': 100, 'selectfrommodel__threshold': 1e-05}\n",
      "\n",
      "Wall time: 11min 58s\n"
     ]
    }
   ],
   "source": [
    "%%time\n",
    "\n",
    "param_grid = {\n",
    "    'selectfrommodel__threshold': [-np.inf, 1e-05],\n",
    "    \n",
    "    'gradientboostingclassifier__max_depth': [1, 5],\n",
    "    'gradientboostingclassifier__n_estimators': [10, 100]\n",
    "}\n",
    "\n",
    "gb_fs_gsc = run_grid_search(gb_fs_pipe, X_train, y_train, param_grid, kfold_cv)"
   ]
  },
  {
   "cell_type": "markdown",
   "id": "14ed14f6-6c02-486b-93e2-77a55505cf59",
   "metadata": {},
   "source": [
    "3) CatBoostClassifier"
   ]
  },
  {
   "cell_type": "code",
   "execution_count": 40,
   "id": "7c75239a-998e-48ad-a589-63e3fdb017d0",
   "metadata": {},
   "outputs": [],
   "source": [
    "from catboost import CatBoostClassifier"
   ]
  },
  {
   "cell_type": "code",
   "execution_count": 41,
   "id": "0d4af529-79c4-4bcb-8d29-d42fca929ccf",
   "metadata": {},
   "outputs": [],
   "source": [
    "cb_fs_pipe = make_pipeline(\n",
    "    f_prep_pipeline,\n",
    "    SelectFromModel(LogisticRegression(penalty='l2', random_state=RANDOM_STATE), max_features=150, threshold=-np.inf),\n",
    "    CatBoostClassifier(random_state=RANDOM_STATE)\n",
    ")"
   ]
  },
  {
   "cell_type": "code",
   "execution_count": 42,
   "id": "be72b409-2892-4610-b838-7c56abaf585f",
   "metadata": {},
   "outputs": [
    {
     "name": "stdout",
     "output_type": "stream",
     "text": [
      "Learning rate set to 0.5\n",
      "0:\tlearn: 0.4303258\ttotal: 166ms\tremaining: 1.49s\n",
      "1:\tlearn: 0.3785701\ttotal: 184ms\tremaining: 735ms\n",
      "2:\tlearn: 0.3525778\ttotal: 200ms\tremaining: 467ms\n",
      "3:\tlearn: 0.3497395\ttotal: 216ms\tremaining: 324ms\n",
      "4:\tlearn: 0.3480555\ttotal: 232ms\tremaining: 232ms\n",
      "5:\tlearn: 0.3461122\ttotal: 246ms\tremaining: 164ms\n",
      "6:\tlearn: 0.3454626\ttotal: 261ms\tremaining: 112ms\n",
      "7:\tlearn: 0.3445511\ttotal: 278ms\tremaining: 69.6ms\n",
      "8:\tlearn: 0.3438743\ttotal: 292ms\tremaining: 32.4ms\n",
      "9:\tlearn: 0.3433976\ttotal: 305ms\tremaining: 0us\n",
      "Best roc_auc score: 0.91\n",
      "\n",
      "Best parameters set found on development set:\n",
      "\n",
      "{'catboostclassifier__depth': 5, 'catboostclassifier__n_estimators': 10, 'selectfrommodel__threshold': -inf}\n",
      "\n",
      "Grid scores on development set:\n",
      "\n",
      "0.891 (+/-0.004) for {'catboostclassifier__depth': 1, 'catboostclassifier__n_estimators': 10, 'selectfrommodel__threshold': -inf}\n",
      "0.891 (+/-0.004) for {'catboostclassifier__depth': 1, 'catboostclassifier__n_estimators': 10, 'selectfrommodel__threshold': 1e-05}\n",
      "0.908 (+/-0.001) for {'catboostclassifier__depth': 1, 'catboostclassifier__n_estimators': 100, 'selectfrommodel__threshold': -inf}\n",
      "0.908 (+/-0.001) for {'catboostclassifier__depth': 1, 'catboostclassifier__n_estimators': 100, 'selectfrommodel__threshold': 1e-05}\n",
      "0.914 (+/-0.003) for {'catboostclassifier__depth': 5, 'catboostclassifier__n_estimators': 10, 'selectfrommodel__threshold': -inf}\n",
      "0.914 (+/-0.003) for {'catboostclassifier__depth': 5, 'catboostclassifier__n_estimators': 10, 'selectfrommodel__threshold': 1e-05}\n",
      "0.911 (+/-0.002) for {'catboostclassifier__depth': 5, 'catboostclassifier__n_estimators': 100, 'selectfrommodel__threshold': -inf}\n",
      "0.911 (+/-0.002) for {'catboostclassifier__depth': 5, 'catboostclassifier__n_estimators': 100, 'selectfrommodel__threshold': 1e-05}\n",
      "\n",
      "Wall time: 1min 18s\n"
     ]
    }
   ],
   "source": [
    "%%time\n",
    "\n",
    "param_grid = {\n",
    "    'selectfrommodel__threshold': [-np.inf, 1e-05],\n",
    "    \n",
    "    'catboostclassifier__depth': [1, 5],\n",
    "    'catboostclassifier__n_estimators': [10, 100]\n",
    "}\n",
    "\n",
    "cb_fs_gsc = run_grid_search(cb_fs_pipe, X_train, y_train, param_grid, kfold_cv)"
   ]
  },
  {
   "cell_type": "markdown",
   "id": "fe1d9c10-f1f3-4645-b199-32f4a3717d13",
   "metadata": {},
   "source": [
    "#### Предсказания на тестовой выборке и оценка качества моделей"
   ]
  },
  {
   "cell_type": "markdown",
   "id": "66db504a-155a-46e0-9af8-7fe5f25a6dc9",
   "metadata": {},
   "source": [
    "1) LogisticRegression"
   ]
  },
  {
   "cell_type": "code",
   "execution_count": 43,
   "id": "4696f386-125a-423b-8beb-4c8fdd5b1fa7",
   "metadata": {},
   "outputs": [],
   "source": [
    "lg_fs_pipe_final = lg_fs_gsc.best_estimator_\n",
    "\n",
    "lg_fs_pipe_final.fit(X_train, y_train)\n",
    "\n",
    "lg_fs_pred = lg_fs_pipe_final.predict_proba(X_test)[:, 1]"
   ]
  },
  {
   "cell_type": "code",
   "execution_count": 44,
   "id": "986107e6-b2b1-4524-8c2c-02311c6e82d3",
   "metadata": {},
   "outputs": [
    {
     "name": "stdout",
     "output_type": "stream",
     "text": [
      "              precision    recall  f1-score   support\n",
      "\n",
      "         0.0       0.99      0.87      0.93    190836\n",
      "         1.0       0.29      0.88      0.44     11349\n",
      "\n",
      "    accuracy                           0.88    202185\n",
      "   macro avg       0.64      0.88      0.69    202185\n",
      "weighted avg       0.95      0.88      0.90    202185\n",
      "\n"
     ]
    }
   ],
   "source": [
    "print(classification_report(y_test, lg_fs_pred > 0.5))"
   ]
  },
  {
   "cell_type": "markdown",
   "id": "0085a33b-43c5-45db-a4f6-773bbc786230",
   "metadata": {},
   "source": [
    "2) GradientBoostingClassifier"
   ]
  },
  {
   "cell_type": "code",
   "execution_count": 45,
   "id": "b242ffd7-3fe1-4711-834a-c3a0dfa9753c",
   "metadata": {},
   "outputs": [],
   "source": [
    "gb_fs_pipe_final = gb_fs_gsc.best_estimator_\n",
    "\n",
    "gb_fs_pipe_final.fit(X_train, y_train)\n",
    "\n",
    "gb_fs_pred = gb_fs_pipe_final.predict_proba(X_test)[:, 1]"
   ]
  },
  {
   "cell_type": "code",
   "execution_count": 46,
   "id": "f00ec4d4-7e73-44a8-9447-616e13b3dda9",
   "metadata": {},
   "outputs": [
    {
     "name": "stdout",
     "output_type": "stream",
     "text": [
      "              precision    recall  f1-score   support\n",
      "\n",
      "         0.0       0.99      0.87      0.93    190836\n",
      "         1.0       0.29      0.88      0.44     11349\n",
      "\n",
      "    accuracy                           0.87    202185\n",
      "   macro avg       0.64      0.88      0.68    202185\n",
      "weighted avg       0.95      0.87      0.90    202185\n",
      "\n"
     ]
    }
   ],
   "source": [
    "print(classification_report(y_test, gb_fs_pred > 0.5))"
   ]
  },
  {
   "cell_type": "markdown",
   "id": "9c239208-0256-4eed-9cf9-2c7ef6e13272",
   "metadata": {},
   "source": [
    "3) CatBoostClassifier"
   ]
  },
  {
   "cell_type": "code",
   "execution_count": 47,
   "id": "c28f2dcd-bdc6-46fe-8b94-01ae87a6ff57",
   "metadata": {},
   "outputs": [
    {
     "name": "stdout",
     "output_type": "stream",
     "text": [
      "Learning rate set to 0.5\n",
      "0:\tlearn: 0.4303258\ttotal: 12.2ms\tremaining: 110ms\n",
      "1:\tlearn: 0.3785701\ttotal: 25.5ms\tremaining: 102ms\n",
      "2:\tlearn: 0.3525778\ttotal: 38.8ms\tremaining: 90.6ms\n",
      "3:\tlearn: 0.3497395\ttotal: 50.8ms\tremaining: 76.2ms\n",
      "4:\tlearn: 0.3480555\ttotal: 62.9ms\tremaining: 62.9ms\n",
      "5:\tlearn: 0.3461122\ttotal: 85.5ms\tremaining: 57ms\n",
      "6:\tlearn: 0.3454626\ttotal: 96ms\tremaining: 41.1ms\n",
      "7:\tlearn: 0.3445511\ttotal: 109ms\tremaining: 27.3ms\n",
      "8:\tlearn: 0.3438743\ttotal: 120ms\tremaining: 13.4ms\n",
      "9:\tlearn: 0.3433976\ttotal: 131ms\tremaining: 0us\n"
     ]
    }
   ],
   "source": [
    "cb_fs_pipe_final = cb_fs_gsc.best_estimator_\n",
    "\n",
    "cb_fs_pipe_final.fit(X_train, y_train)\n",
    "\n",
    "cb_fs_pred = cb_fs_pipe_final.predict_proba(X_test)[:, 1]"
   ]
  },
  {
   "cell_type": "code",
   "execution_count": 48,
   "id": "3c55b055-715a-471b-ac13-ce9de31b05aa",
   "metadata": {},
   "outputs": [
    {
     "name": "stdout",
     "output_type": "stream",
     "text": [
      "              precision    recall  f1-score   support\n",
      "\n",
      "         0.0       0.99      0.88      0.93    190836\n",
      "         1.0       0.29      0.88      0.44     11349\n",
      "\n",
      "    accuracy                           0.88    202185\n",
      "   macro avg       0.64      0.88      0.69    202185\n",
      "weighted avg       0.95      0.88      0.90    202185\n",
      "\n"
     ]
    }
   ],
   "source": [
    "print(classification_report(y_test, cb_fs_pred > 0.5))"
   ]
  },
  {
   "cell_type": "code",
   "execution_count": 49,
   "id": "a32eb026-b48e-42b2-81cb-97d3752cf6d7",
   "metadata": {},
   "outputs": [
    {
     "name": "stdout",
     "output_type": "stream",
     "text": [
      "lg_fs_pred: AUC_PR = 0.366\n",
      "lg_fs_pred: AUC_ROC = 0.907\n",
      "gb_fs_pred: AUC_PR = 0.386\n",
      "gb_fs_pred: AUC_ROC = 0.915\n",
      "cb_fs_pred: AUC_PR = 0.387\n",
      "cb_fs_pred: AUC_ROC = 0.916\n"
     ]
    },
    {
     "data": {
      "image/png": "[encoded data removed]",
      "text/plain": [
       "<Figure size 864x1728 with 2 Axes>"
      ]
     },
     "metadata": {
      "needs_background": "light"
     },
     "output_type": "display_data"
    }
   ],
   "source": [
    "f, (ax1, ax2) = plt.subplots(1, 2, sharey=True)\n",
    "\n",
    "f.set_figheight(24)\n",
    "f.set_figwidth(12)\n",
    "\n",
    "ax1 = plt.subplot(211)\n",
    "ax1.set_title('ROC')\n",
    "ax1.set_xlabel('TPR')\n",
    "ax1.set_ylabel('FPR')\n",
    "\n",
    "ax2 = plt.subplot(212)\n",
    "ax2.set_title('PR')\n",
    "ax2.set_xlabel('Recall')\n",
    "ax2.set_ylabel('Precision')\n",
    "\n",
    "ax1.plot([0, 1], [0, 1], 'k--')\n",
    "\n",
    "fpr, tpr, roc_thresholds = roc_curve(y_test, lg_fs_pred)\n",
    "precision, recall, pr_thresholds = precision_recall_curve(y_test, lg_fs_pred)\n",
    "ax1.plot(fpr, tpr, label='lg_fs_pred', color='b')\n",
    "ax2.plot(recall, precision, label='lg_fs_pred', color='b')\n",
    "print('lg_fs_pred: AUC_PR = %.3f' % auc(recall, precision))\n",
    "print('lg_fs_pred: AUC_ROC = %.3f' % auc(fpr, tpr))\n",
    "\n",
    "fpr, tpr, roc_thresholds = roc_curve(y_test, gb_fs_pred)\n",
    "precision, recall, pr_thresholds = precision_recall_curve(y_test, gb_fs_pred)\n",
    "ax1.plot(fpr, tpr, label='gb_fs_pred', color='g')\n",
    "ax2.plot(recall, precision, label='gb_fs_pred', color='g')\n",
    "print('gb_fs_pred: AUC_PR = %.3f' % auc(recall, precision))\n",
    "print('gb_fs_pred: AUC_ROC = %.3f' % auc(fpr, tpr))\n",
    "\n",
    "fpr, tpr, roc_thresholds = roc_curve(y_test, cb_fs_pred)\n",
    "precision, recall, pr_thresholds = precision_recall_curve(y_test, cb_fs_pred)\n",
    "ax1.plot(fpr, tpr, label='cb_fs_pred', color='purple')\n",
    "ax2.plot(recall, precision, label='cb_fs_pred', color='purple')\n",
    "print('cb_fs_pred: AUC_PR = %.3f' % auc(recall, precision))\n",
    "print('cb_fs_pred: AUC_ROC = %.3f' % auc(fpr, tpr))\n",
    "\n",
    "ax1.legend(loc='lower right')\n",
    "ax2.legend(loc='lower right');"
   ]
  },
  {
   "cell_type": "markdown",
   "id": "3569b333-21fd-4f79-937d-cddef5483aed",
   "metadata": {},
   "source": [
    "##### Видим, что значения близки друг к другу. Выберем CatBoostClassifier, так как эта модель работает быстрее, а также f1 (average='macro') выше, чем у GradientBoostingClassifier: 0.69."
   ]
  },
  {
   "cell_type": "code",
   "execution_count": 50,
   "id": "fc7e7c1c-8815-409f-a571-27b355e14efd",
   "metadata": {},
   "outputs": [],
   "source": [
    "def plot_confusion_matrix(cm, classes,\n",
    "                          model_name='',\n",
    "                          normalize=False,\n",
    "                          cmap=plt.cm.Blues):\n",
    "    \"\"\"\n",
    "    This function prints and plots the confusion matrix.\n",
    "    Normalization can be applied by setting `normalize=True`.\n",
    "    \"\"\"\n",
    "    if normalize:\n",
    "        cm = cm.astype('float') / cm.sum(axis=1)[:, np.newaxis]\n",
    "        print('Normalized confusion matrix')\n",
    "    else:\n",
    "        print('Confusion matrix, without normalization')\n",
    "\n",
    "    print(cm)\n",
    "\n",
    "    plt.imshow(cm, interpolation='nearest',  cmap=cmap)\n",
    "    \n",
    "    plt.grid(False)\n",
    "    plt.title('%s: confusion matrix' % model_name)\n",
    "    tick_marks = np.arange(len(classes))\n",
    "    plt.xticks(tick_marks, classes, rotation=45)\n",
    "    plt.yticks(tick_marks, classes)\n",
    "\n",
    "    fmt = '.2f' if normalize else 'd'\n",
    "    thresh = cm.max() / 2.\n",
    "    for i, j in itertools.product(range(cm.shape[0]), range(cm.shape[1])):\n",
    "        plt.text(j, i, format(cm[i, j], fmt),\n",
    "                 horizontalalignment=\"center\",\n",
    "                 color='white' if cm[i, j] > thresh else 'black')\n",
    "\n",
    "    plt.ylabel('True label')\n",
    "    plt.xlabel('Predicted label')\n",
    "    plt.tight_layout()"
   ]
  },
  {
   "cell_type": "code",
   "execution_count": 51,
   "id": "10c40060-1585-47e1-b967-de1c4c45465f",
   "metadata": {},
   "outputs": [
    {
     "name": "stdout",
     "output_type": "stream",
     "text": [
      "Confusion matrix, without normalization\n",
      "[[166996  23840]\n",
      " [  1396   9953]]\n"
     ]
    },
    {
     "data": {
      "image/png": "[encoded data removed]",
      "text/plain": [
       "<Figure size 720x576 with 1 Axes>"
      ]
     },
     "metadata": {
      "needs_background": "light"
     },
     "output_type": "display_data"
    }
   ],
   "source": [
    "cm = confusion_matrix(y_test, cb_fs_pred > 0.5)\n",
    "plot_confusion_matrix(cm, classes=['0', '1'], model_name='CatBoostClassifier');"
   ]
  },
  {
   "cell_type": "markdown",
   "id": "330462cb-d50a-466a-8161-b19983c7bee9",
   "metadata": {},
   "source": [
    "##### Значение 0.5 является оптимальным порогом вероятности для отнесения к положительному классу и предложения абоненту услуги. Если взять порог ниже (например, 0.4), то результат f1 macro ухудшается, как и accuracy."
   ]
  },
  {
   "cell_type": "markdown",
   "id": "3d253c44-806f-42f7-a986-a3a4b1b778a9",
   "metadata": {},
   "source": [
    "#### Запишем выбранную модель в файл в формате pickle"
   ]
  },
  {
   "cell_type": "code",
   "execution_count": 52,
   "id": "0e2c1995-29dc-4c9a-9223-9699f8ddf6c5",
   "metadata": {},
   "outputs": [],
   "source": [
    "with open('cat_boost_classifier_model.pickle', 'wb') as f:\n",
    "    pickle.dump(cb_fs_pipe_final, f, protocol=pickle.HIGHEST_PROTOCOL)"
   ]
  },
  {
   "cell_type": "markdown",
   "id": "4f8fb58d-b094-48b4-a8df-fa5547dd2167",
   "metadata": {},
   "source": [
    "#### Предсказание на тестовой выборке"
   ]
  },
  {
   "cell_type": "code",
   "execution_count": 53,
   "id": "31876aa2-98bc-4900-ac3f-ccd9344c2e83",
   "metadata": {},
   "outputs": [],
   "source": [
    "with open('cat_boost_classifier_model.pickle', 'rb') as f:\n",
    "    cb_fs_pipe_final = pickle.load(f)"
   ]
  },
  {
   "cell_type": "code",
   "execution_count": 54,
   "id": "ecd4402e-b335-42ca-9a2d-c90865c9b570",
   "metadata": {},
   "outputs": [],
   "source": [
    "test_data = pd.read_csv('test_data_features.csv')"
   ]
  },
  {
   "cell_type": "code",
   "execution_count": 55,
   "id": "4899968c-08c4-49be-8e47-32670c9bafe0",
   "metadata": {},
   "outputs": [],
   "source": [
    "y_pred = cb_fs_pipe_final.predict_proba(test_data)[:, 1]"
   ]
  },
  {
   "cell_type": "code",
   "execution_count": 56,
   "id": "938e1b43-bd58-4281-aceb-ea35b9794d29",
   "metadata": {},
   "outputs": [
    {
     "data": {
      "text/plain": [
       "array([0.13865518, 0.18779556, 0.87123444, ..., 0.16443223, 0.93293332,\n",
       "       0.1873857 ])"
      ]
     },
     "execution_count": 56,
     "metadata": {},
     "output_type": "execute_result"
    }
   ],
   "source": [
    "y_pred"
   ]
  },
  {
   "cell_type": "code",
   "execution_count": 57,
   "id": "324a98ac-a770-4c5f-b706-3b229ca95f1b",
   "metadata": {},
   "outputs": [],
   "source": [
    "X_test = pd.read_csv('data_test.csv')\n",
    "X_test = X_test.drop('Unnamed: 0', axis=1)\n",
    "\n",
    "ids_dict = {1.0: 1, 2.0: 2, 4.0: 3, 5.0: 4, 6.0: 5, 7.0: 6, 8.0: 7, 9.0: 8}\n",
    "X_test['vas_id'] = X_test['vas_id'].map(ids_dict)"
   ]
  },
  {
   "cell_type": "code",
   "execution_count": 58,
   "id": "f9be33a9-d3c2-4f06-b38f-a4938136fef7",
   "metadata": {},
   "outputs": [],
   "source": [
    "X_test['target'] = y_pred"
   ]
  },
  {
   "cell_type": "code",
   "execution_count": 59,
   "id": "6f963a18-601f-4ff7-a143-6022905f6b34",
   "metadata": {},
   "outputs": [],
   "source": [
    "X_test.to_csv('answers_test.csv', index=False)"
   ]
  },
  {
   "cell_type": "code",
   "execution_count": 60,
   "id": "38290f14-245c-4284-9eac-19fd5f28372c",
   "metadata": {},
   "outputs": [
    {
     "data": {
      "text/html": [
       "<div>\n",
       "<style scoped>\n",
       "    .dataframe tbody tr th:only-of-type {\n",
       "        vertical-align: middle;\n",
       "    }\n",
       "\n",
       "    .dataframe tbody tr th {\n",
       "        vertical-align: top;\n",
       "    }\n",
       "\n",
       "    .dataframe thead th {\n",
       "        text-align: right;\n",
       "    }\n",
       "</style>\n",
       "<table border=\"1\" class=\"dataframe\">\n",
       "  <thead>\n",
       "    <tr style=\"text-align: right;\">\n",
       "      <th></th>\n",
       "      <th>id</th>\n",
       "      <th>vas_id</th>\n",
       "      <th>buy_time</th>\n",
       "      <th>target</th>\n",
       "    </tr>\n",
       "  </thead>\n",
       "  <tbody>\n",
       "    <tr>\n",
       "      <th>0</th>\n",
       "      <td>3130519</td>\n",
       "      <td>2</td>\n",
       "      <td>1548018000</td>\n",
       "      <td>0.138655</td>\n",
       "    </tr>\n",
       "    <tr>\n",
       "      <th>1</th>\n",
       "      <td>2000860</td>\n",
       "      <td>3</td>\n",
       "      <td>1548018000</td>\n",
       "      <td>0.187796</td>\n",
       "    </tr>\n",
       "    <tr>\n",
       "      <th>2</th>\n",
       "      <td>1099444</td>\n",
       "      <td>2</td>\n",
       "      <td>1546808400</td>\n",
       "      <td>0.871234</td>\n",
       "    </tr>\n",
       "    <tr>\n",
       "      <th>3</th>\n",
       "      <td>1343255</td>\n",
       "      <td>4</td>\n",
       "      <td>1547413200</td>\n",
       "      <td>0.858708</td>\n",
       "    </tr>\n",
       "  </tbody>\n",
       "</table>\n",
       "</div>"
      ],
      "text/plain": [
       "        id  vas_id    buy_time    target\n",
       "0  3130519       2  1548018000  0.138655\n",
       "1  2000860       3  1548018000  0.187796\n",
       "2  1099444       2  1546808400  0.871234\n",
       "3  1343255       4  1547413200  0.858708"
      ]
     },
     "execution_count": 60,
     "metadata": {},
     "output_type": "execute_result"
    }
   ],
   "source": [
    "X_test.head(4)"
   ]
  },
  {
   "cell_type": "code",
   "execution_count": null,
   "id": "3b56805a-f45f-4734-91e0-28664ef44f6b",
   "metadata": {},
   "outputs": [],
   "source": []
  }
 ],
 "metadata": {
  "kernelspec": {
   "display_name": "Python 3 (ipykernel)",
   "language": "python",
   "name": "python3"
  },
  "language_info": {
   "codemirror_mode": {
    "name": "ipython",
    "version": 3
   },
   "file_extension": ".py",
   "mimetype": "text/x-python",
   "name": "python",
   "nbconvert_exporter": "python",
   "pygments_lexer": "ipython3",
   "version": "3.9.12"
  }
 },
 "nbformat": 4,
 "nbformat_minor": 5
}
