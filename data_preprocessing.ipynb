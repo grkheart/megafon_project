{
 "cells": [
  {
   "cell_type": "code",
   "execution_count": 1,
   "id": "d9cfd5d7-1f96-4f85-beea-036155bdf984",
   "metadata": {},
   "outputs": [],
   "source": [
    "import numpy as np\n",
    "import pandas as pd\n",
    "import dask.dataframe as dd\n",
    "\n",
    "from datetime import date, datetime\n",
    "\n",
    "import matplotlib.pyplot as plt\n",
    "%matplotlib inline\n",
    "\n",
    "from pylab import rcParams\n",
    "rcParams['figure.figsize'] = 10, 8\n",
    "\n",
    "import warnings\n",
    "warnings.simplefilter('ignore')"
   ]
  },
  {
   "cell_type": "markdown",
   "id": "c6cbb687-556d-4b95-b8c5-4807639ae48f",
   "metadata": {},
   "source": [
    "Загружаем тренировочный датасет при помощи pandas и датасет features через dask.dataframe:"
   ]
  },
  {
   "cell_type": "code",
   "execution_count": 2,
   "id": "ca7f6030-1296-43af-ae2b-26bdcf80786e",
   "metadata": {},
   "outputs": [],
   "source": [
    "data_train = pd.read_csv('data_train.csv')"
   ]
  },
  {
   "cell_type": "code",
   "execution_count": 3,
   "id": "92806ab9-b58f-405d-8099-54afab844658",
   "metadata": {},
   "outputs": [
    {
     "data": {
      "text/html": [
       "<div>\n",
       "<style scoped>\n",
       "    .dataframe tbody tr th:only-of-type {\n",
       "        vertical-align: middle;\n",
       "    }\n",
       "\n",
       "    .dataframe tbody tr th {\n",
       "        vertical-align: top;\n",
       "    }\n",
       "\n",
       "    .dataframe thead th {\n",
       "        text-align: right;\n",
       "    }\n",
       "</style>\n",
       "<table border=\"1\" class=\"dataframe\">\n",
       "  <thead>\n",
       "    <tr style=\"text-align: right;\">\n",
       "      <th></th>\n",
       "      <th>Unnamed: 0</th>\n",
       "      <th>id</th>\n",
       "      <th>vas_id</th>\n",
       "      <th>buy_time</th>\n",
       "      <th>target</th>\n",
       "    </tr>\n",
       "  </thead>\n",
       "  <tbody>\n",
       "    <tr>\n",
       "      <th>0</th>\n",
       "      <td>0</td>\n",
       "      <td>540968</td>\n",
       "      <td>8.0</td>\n",
       "      <td>1537131600</td>\n",
       "      <td>0.0</td>\n",
       "    </tr>\n",
       "    <tr>\n",
       "      <th>1</th>\n",
       "      <td>1</td>\n",
       "      <td>1454121</td>\n",
       "      <td>4.0</td>\n",
       "      <td>1531688400</td>\n",
       "      <td>0.0</td>\n",
       "    </tr>\n",
       "    <tr>\n",
       "      <th>2</th>\n",
       "      <td>2</td>\n",
       "      <td>2458816</td>\n",
       "      <td>1.0</td>\n",
       "      <td>1534107600</td>\n",
       "      <td>0.0</td>\n",
       "    </tr>\n",
       "    <tr>\n",
       "      <th>3</th>\n",
       "      <td>3</td>\n",
       "      <td>3535012</td>\n",
       "      <td>5.0</td>\n",
       "      <td>1535922000</td>\n",
       "      <td>0.0</td>\n",
       "    </tr>\n",
       "  </tbody>\n",
       "</table>\n",
       "</div>"
      ],
      "text/plain": [
       "   Unnamed: 0       id  vas_id    buy_time  target\n",
       "0           0   540968     8.0  1537131600     0.0\n",
       "1           1  1454121     4.0  1531688400     0.0\n",
       "2           2  2458816     1.0  1534107600     0.0\n",
       "3           3  3535012     5.0  1535922000     0.0"
      ]
     },
     "execution_count": 3,
     "metadata": {},
     "output_type": "execute_result"
    }
   ],
   "source": [
    "data_train.head(4)"
   ]
  },
  {
   "cell_type": "code",
   "execution_count": 4,
   "id": "3f38b0e2-ccd3-4d60-9f3c-a3ea7c6dff35",
   "metadata": {},
   "outputs": [],
   "source": [
    "data_train = data_train.drop('Unnamed: 0', axis=1)"
   ]
  },
  {
   "cell_type": "code",
   "execution_count": 5,
   "id": "30a3ba0b-182c-40e5-90d0-a06678f0d47e",
   "metadata": {},
   "outputs": [],
   "source": [
    "features = dd.read_csv('D:/megafon/project/features.csv', sep='\\t')"
   ]
  },
  {
   "cell_type": "code",
   "execution_count": 6,
   "id": "d8704381-c6a4-41e9-a8be-860cf2a1ba52",
   "metadata": {},
   "outputs": [
    {
     "data": {
      "text/html": [
       "<div>\n",
       "<style scoped>\n",
       "    .dataframe tbody tr th:only-of-type {\n",
       "        vertical-align: middle;\n",
       "    }\n",
       "\n",
       "    .dataframe tbody tr th {\n",
       "        vertical-align: top;\n",
       "    }\n",
       "\n",
       "    .dataframe thead th {\n",
       "        text-align: right;\n",
       "    }\n",
       "</style>\n",
       "<table border=\"1\" class=\"dataframe\">\n",
       "  <thead>\n",
       "    <tr style=\"text-align: right;\">\n",
       "      <th></th>\n",
       "      <th>Unnamed: 0</th>\n",
       "      <th>id</th>\n",
       "      <th>buy_time</th>\n",
       "      <th>0</th>\n",
       "      <th>1</th>\n",
       "      <th>2</th>\n",
       "      <th>3</th>\n",
       "      <th>4</th>\n",
       "      <th>5</th>\n",
       "      <th>6</th>\n",
       "      <th>...</th>\n",
       "      <th>243</th>\n",
       "      <th>244</th>\n",
       "      <th>245</th>\n",
       "      <th>246</th>\n",
       "      <th>247</th>\n",
       "      <th>248</th>\n",
       "      <th>249</th>\n",
       "      <th>250</th>\n",
       "      <th>251</th>\n",
       "      <th>252</th>\n",
       "    </tr>\n",
       "  </thead>\n",
       "  <tbody>\n",
       "    <tr>\n",
       "      <th>0</th>\n",
       "      <td>0</td>\n",
       "      <td>2013026</td>\n",
       "      <td>1531688400</td>\n",
       "      <td>18.910029</td>\n",
       "      <td>46.980888</td>\n",
       "      <td>4.969214</td>\n",
       "      <td>-1.386798</td>\n",
       "      <td>3.791754</td>\n",
       "      <td>-14.01179</td>\n",
       "      <td>-16.08618</td>\n",
       "      <td>...</td>\n",
       "      <td>-977.373846</td>\n",
       "      <td>-613.770792</td>\n",
       "      <td>-25.996269</td>\n",
       "      <td>-37.630448</td>\n",
       "      <td>-301.747724</td>\n",
       "      <td>-25.832889</td>\n",
       "      <td>-0.694428</td>\n",
       "      <td>-12.175933</td>\n",
       "      <td>-0.45614</td>\n",
       "      <td>0.0</td>\n",
       "    </tr>\n",
       "    <tr>\n",
       "      <th>1</th>\n",
       "      <td>1</td>\n",
       "      <td>2014722</td>\n",
       "      <td>1539550800</td>\n",
       "      <td>36.690029</td>\n",
       "      <td>152.400888</td>\n",
       "      <td>448.069214</td>\n",
       "      <td>563.833202</td>\n",
       "      <td>463.841754</td>\n",
       "      <td>568.99821</td>\n",
       "      <td>-16.08618</td>\n",
       "      <td>...</td>\n",
       "      <td>-891.373846</td>\n",
       "      <td>-544.770792</td>\n",
       "      <td>-20.996269</td>\n",
       "      <td>48.369552</td>\n",
       "      <td>80.252276</td>\n",
       "      <td>-13.832889</td>\n",
       "      <td>-0.694428</td>\n",
       "      <td>-1.175933</td>\n",
       "      <td>-0.45614</td>\n",
       "      <td>0.0</td>\n",
       "    </tr>\n",
       "    <tr>\n",
       "      <th>2</th>\n",
       "      <td>2</td>\n",
       "      <td>2015199</td>\n",
       "      <td>1545598800</td>\n",
       "      <td>-67.019971</td>\n",
       "      <td>157.050888</td>\n",
       "      <td>-63.180786</td>\n",
       "      <td>178.103202</td>\n",
       "      <td>-68.598246</td>\n",
       "      <td>156.99821</td>\n",
       "      <td>3.51382</td>\n",
       "      <td>...</td>\n",
       "      <td>-977.373846</td>\n",
       "      <td>-613.770792</td>\n",
       "      <td>-12.996269</td>\n",
       "      <td>-37.630448</td>\n",
       "      <td>10829.252276</td>\n",
       "      <td>-25.832889</td>\n",
       "      <td>-0.694428</td>\n",
       "      <td>-12.175933</td>\n",
       "      <td>-0.45614</td>\n",
       "      <td>0.0</td>\n",
       "    </tr>\n",
       "    <tr>\n",
       "      <th>3</th>\n",
       "      <td>3</td>\n",
       "      <td>2021765</td>\n",
       "      <td>1534107600</td>\n",
       "      <td>7.010029</td>\n",
       "      <td>150.200888</td>\n",
       "      <td>-6.930786</td>\n",
       "      <td>216.213202</td>\n",
       "      <td>76.621754</td>\n",
       "      <td>351.84821</td>\n",
       "      <td>-16.08618</td>\n",
       "      <td>...</td>\n",
       "      <td>-973.373846</td>\n",
       "      <td>-613.770792</td>\n",
       "      <td>-23.996269</td>\n",
       "      <td>-37.630448</td>\n",
       "      <td>-205.747724</td>\n",
       "      <td>-24.832889</td>\n",
       "      <td>-0.694428</td>\n",
       "      <td>-11.175933</td>\n",
       "      <td>-0.45614</td>\n",
       "      <td>1.0</td>\n",
       "    </tr>\n",
       "  </tbody>\n",
       "</table>\n",
       "<p>4 rows × 256 columns</p>\n",
       "</div>"
      ],
      "text/plain": [
       "   Unnamed: 0       id    buy_time          0           1           2  \\\n",
       "0           0  2013026  1531688400  18.910029   46.980888    4.969214   \n",
       "1           1  2014722  1539550800  36.690029  152.400888  448.069214   \n",
       "2           2  2015199  1545598800 -67.019971  157.050888  -63.180786   \n",
       "3           3  2021765  1534107600   7.010029  150.200888   -6.930786   \n",
       "\n",
       "            3           4          5         6  ...         243         244  \\\n",
       "0   -1.386798    3.791754  -14.01179 -16.08618  ... -977.373846 -613.770792   \n",
       "1  563.833202  463.841754  568.99821 -16.08618  ... -891.373846 -544.770792   \n",
       "2  178.103202  -68.598246  156.99821   3.51382  ... -977.373846 -613.770792   \n",
       "3  216.213202   76.621754  351.84821 -16.08618  ... -973.373846 -613.770792   \n",
       "\n",
       "         245        246           247        248       249        250  \\\n",
       "0 -25.996269 -37.630448   -301.747724 -25.832889 -0.694428 -12.175933   \n",
       "1 -20.996269  48.369552     80.252276 -13.832889 -0.694428  -1.175933   \n",
       "2 -12.996269 -37.630448  10829.252276 -25.832889 -0.694428 -12.175933   \n",
       "3 -23.996269 -37.630448   -205.747724 -24.832889 -0.694428 -11.175933   \n",
       "\n",
       "       251  252  \n",
       "0 -0.45614  0.0  \n",
       "1 -0.45614  0.0  \n",
       "2 -0.45614  0.0  \n",
       "3 -0.45614  1.0  \n",
       "\n",
       "[4 rows x 256 columns]"
      ]
     },
     "execution_count": 6,
     "metadata": {},
     "output_type": "execute_result"
    }
   ],
   "source": [
    "features.head(4)"
   ]
  },
  {
   "cell_type": "code",
   "execution_count": 7,
   "id": "a0a83bd5-0fbb-4fed-8723-bba700959e75",
   "metadata": {},
   "outputs": [],
   "source": [
    "features = features.drop('Unnamed: 0', axis=1)"
   ]
  },
  {
   "cell_type": "markdown",
   "id": "1f060a96-8a25-4bbc-ab0e-d755bc13a13a",
   "metadata": {},
   "source": [
    "#### Обработка data_train"
   ]
  },
  {
   "cell_type": "markdown",
   "id": "aa7aa2c6-ccf8-462b-aed1-d28d7dab805d",
   "metadata": {},
   "source": [
    "Создадим признак date, в котором дата из признака buy_time будет конвертирована в удобном формате:"
   ]
  },
  {
   "cell_type": "code",
   "execution_count": 8,
   "id": "5b51df16-b357-46b8-8fcc-ed98aecb2d39",
   "metadata": {},
   "outputs": [],
   "source": [
    "data_train['date'] = data_train['buy_time'].apply(lambda x: date.fromtimestamp(x))"
   ]
  },
  {
   "cell_type": "code",
   "execution_count": 9,
   "id": "0cd49c38-3957-40e9-8fc7-e8983bedeb0a",
   "metadata": {},
   "outputs": [
    {
     "data": {
      "text/html": [
       "<div>\n",
       "<style scoped>\n",
       "    .dataframe tbody tr th:only-of-type {\n",
       "        vertical-align: middle;\n",
       "    }\n",
       "\n",
       "    .dataframe tbody tr th {\n",
       "        vertical-align: top;\n",
       "    }\n",
       "\n",
       "    .dataframe thead th {\n",
       "        text-align: right;\n",
       "    }\n",
       "</style>\n",
       "<table border=\"1\" class=\"dataframe\">\n",
       "  <thead>\n",
       "    <tr style=\"text-align: right;\">\n",
       "      <th></th>\n",
       "      <th>id</th>\n",
       "      <th>vas_id</th>\n",
       "      <th>buy_time</th>\n",
       "      <th>target</th>\n",
       "      <th>date</th>\n",
       "    </tr>\n",
       "  </thead>\n",
       "  <tbody>\n",
       "    <tr>\n",
       "      <th>0</th>\n",
       "      <td>540968</td>\n",
       "      <td>8.0</td>\n",
       "      <td>1537131600</td>\n",
       "      <td>0.0</td>\n",
       "      <td>2018-09-17</td>\n",
       "    </tr>\n",
       "    <tr>\n",
       "      <th>1</th>\n",
       "      <td>1454121</td>\n",
       "      <td>4.0</td>\n",
       "      <td>1531688400</td>\n",
       "      <td>0.0</td>\n",
       "      <td>2018-07-16</td>\n",
       "    </tr>\n",
       "    <tr>\n",
       "      <th>2</th>\n",
       "      <td>2458816</td>\n",
       "      <td>1.0</td>\n",
       "      <td>1534107600</td>\n",
       "      <td>0.0</td>\n",
       "      <td>2018-08-13</td>\n",
       "    </tr>\n",
       "    <tr>\n",
       "      <th>3</th>\n",
       "      <td>3535012</td>\n",
       "      <td>5.0</td>\n",
       "      <td>1535922000</td>\n",
       "      <td>0.0</td>\n",
       "      <td>2018-09-03</td>\n",
       "    </tr>\n",
       "  </tbody>\n",
       "</table>\n",
       "</div>"
      ],
      "text/plain": [
       "        id  vas_id    buy_time  target        date\n",
       "0   540968     8.0  1537131600     0.0  2018-09-17\n",
       "1  1454121     4.0  1531688400     0.0  2018-07-16\n",
       "2  2458816     1.0  1534107600     0.0  2018-08-13\n",
       "3  3535012     5.0  1535922000     0.0  2018-09-03"
      ]
     },
     "execution_count": 9,
     "metadata": {},
     "output_type": "execute_result"
    }
   ],
   "source": [
    "data_train.head(4)"
   ]
  },
  {
   "cell_type": "code",
   "execution_count": 10,
   "id": "84e5287a-4a6f-4372-9381-edf322438249",
   "metadata": {},
   "outputs": [
    {
     "name": "stdout",
     "output_type": "stream",
     "text": [
      "<class 'pandas.core.frame.DataFrame'>\n",
      "RangeIndex: 831653 entries, 0 to 831652\n",
      "Data columns (total 5 columns):\n",
      " #   Column    Non-Null Count   Dtype  \n",
      "---  ------    --------------   -----  \n",
      " 0   id        831653 non-null  int64  \n",
      " 1   vas_id    831653 non-null  float64\n",
      " 2   buy_time  831653 non-null  int64  \n",
      " 3   target    831653 non-null  float64\n",
      " 4   date      831653 non-null  object \n",
      "dtypes: float64(2), int64(2), object(1)\n",
      "memory usage: 31.7+ MB\n"
     ]
    }
   ],
   "source": [
    "data_train.info()"
   ]
  },
  {
   "cell_type": "markdown",
   "id": "e57247f5-d91d-4a01-9c8b-42ca34caa221",
   "metadata": {},
   "source": [
    "Видим, что пропущенных значений нет."
   ]
  },
  {
   "cell_type": "markdown",
   "id": "1b7722a7-1052-4322-b83a-8f48f38e7ac7",
   "metadata": {},
   "source": [
    "Посмотрим, за какой период поступали предложения о подключении услуг:"
   ]
  },
  {
   "cell_type": "code",
   "execution_count": 11,
   "id": "ce103d13-1a6b-45e2-a67c-d4e3105c7b17",
   "metadata": {},
   "outputs": [
    {
     "name": "stdout",
     "output_type": "stream",
     "text": [
      "Самая ранняя дата: 2018-07-09\n"
     ]
    }
   ],
   "source": [
    "print(f'Самая ранняя дата: {data_train[\"date\"].min()}')"
   ]
  },
  {
   "cell_type": "code",
   "execution_count": 12,
   "id": "fcbf42dd-24ca-46ab-8b4c-0634d323e482",
   "metadata": {},
   "outputs": [
    {
     "name": "stdout",
     "output_type": "stream",
     "text": [
      "Самая поздняя дата: 2018-12-31\n"
     ]
    }
   ],
   "source": [
    "print(f'Самая поздняя дата: {data_train[\"date\"].max()}')"
   ]
  },
  {
   "cell_type": "markdown",
   "id": "f51bc703-01c5-4a31-a7ba-ca502e6eac3b",
   "metadata": {},
   "source": [
    "Посмотрим на ID предлагаемых услуг:"
   ]
  },
  {
   "cell_type": "code",
   "execution_count": 13,
   "id": "313a1ccb-d568-4405-8978-bf36a81a76f9",
   "metadata": {},
   "outputs": [
    {
     "name": "stdout",
     "output_type": "stream",
     "text": [
      "1, 2, 4, 5, 6, 7, 8, 9\n"
     ]
    }
   ],
   "source": [
    "print(*np.sort(list(map(int, data_train['vas_id'].unique()))), sep=', ')"
   ]
  },
  {
   "cell_type": "markdown",
   "id": "d7341a0b-4eae-49ee-9b23-406ef0206066",
   "metadata": {},
   "source": [
    "Видим, что нет услуги номер 3."
   ]
  },
  {
   "cell_type": "markdown",
   "id": "09e2e58e-f6fa-47d8-b841-2dca1bc5726d",
   "metadata": {},
   "source": [
    "Заменим id услуг, чтобы они шли по порядку (услуг 8, поэтому с 1 по 8 включительно):"
   ]
  },
  {
   "cell_type": "code",
   "execution_count": 14,
   "id": "3698ffa6-7342-4af1-b0e1-ebec436e522e",
   "metadata": {},
   "outputs": [],
   "source": [
    "ids_dict = {1.0: 1, 2.0: 2, 4.0: 3, 5.0: 4, 6.0: 5, 7.0: 6, 8.0: 7, 9.0: 8}\n",
    "data_train['vas_id'] = data_train['vas_id'].map(ids_dict)"
   ]
  },
  {
   "cell_type": "code",
   "execution_count": 15,
   "id": "bff61d32-2375-4c81-bf0b-456c03b6ea6d",
   "metadata": {},
   "outputs": [
    {
     "data": {
      "text/plain": [
       "1    310175\n",
       "2    249505\n",
       "4     94085\n",
       "3     85756\n",
       "5     57878\n",
       "6     15432\n",
       "7     13350\n",
       "8      5472\n",
       "Name: vas_id, dtype: int64"
      ]
     },
     "execution_count": 15,
     "metadata": {},
     "output_type": "execute_result"
    }
   ],
   "source": [
    "data_train['vas_id'].value_counts()"
   ]
  },
  {
   "cell_type": "markdown",
   "id": "77738084-bc61-421f-b94e-ce2ea88577c0",
   "metadata": {},
   "source": [
    "Проверим, есть ли пользователи, которым поступало предложение о подключении услуги несколько раз:"
   ]
  },
  {
   "cell_type": "code",
   "execution_count": 16,
   "id": "d281adf5-1ccd-48e6-8d53-ee206b6b33fe",
   "metadata": {},
   "outputs": [
    {
     "data": {
      "text/plain": [
       "1347260    3\n",
       "17679      3\n",
       "340716     3\n",
       "1596002    3\n",
       "1195576    3\n",
       "          ..\n",
       "1934276    1\n",
       "4340166    1\n",
       "2891727    1\n",
       "66499      1\n",
       "3022610    1\n",
       "Name: id, Length: 806613, dtype: int64"
      ]
     },
     "execution_count": 16,
     "metadata": {},
     "output_type": "execute_result"
    }
   ],
   "source": [
    "data_train['id'].value_counts().sort_values(ascending=False)"
   ]
  },
  {
   "cell_type": "markdown",
   "id": "8932bdd5-72ed-437a-9985-3346cd471079",
   "metadata": {},
   "source": [
    "Видим, что такие есть."
   ]
  },
  {
   "cell_type": "markdown",
   "id": "da5eb828-21ff-4084-ac3f-ddac9be1c7a7",
   "metadata": {},
   "source": [
    "Построим графики, посмотрим динамику предложений."
   ]
  },
  {
   "cell_type": "markdown",
   "id": "d4525b3b-1049-4936-bc3e-ecea5d913f9a",
   "metadata": {},
   "source": [
    "Посмотрим на количество отказов:"
   ]
  },
  {
   "cell_type": "code",
   "execution_count": 17,
   "id": "09e1ecc7-d392-47ff-8ba8-c224884adb7b",
   "metadata": {},
   "outputs": [
    {
     "data": {
      "image/png": "[encoded data removed]",
      "text/plain": [
       "<Figure size 720x576 with 1 Axes>"
      ]
     },
     "metadata": {
      "needs_background": "light"
     },
     "output_type": "display_data"
    }
   ],
   "source": [
    "plt.plot(data_train.loc[(data_train['target']==0, 'date') ].value_counts().sort_index());"
   ]
  },
  {
   "cell_type": "markdown",
   "id": "d14f81c6-a778-4e64-a65b-7a6189f6b205",
   "metadata": {},
   "source": [
    "Посмотрим на количество подключений:"
   ]
  },
  {
   "cell_type": "code",
   "execution_count": 18,
   "id": "de4c54ec-ebfd-42f5-9fb3-e8d4a66f3c41",
   "metadata": {},
   "outputs": [
    {
     "data": {
      "image/png": "[encoded data removed]",
      "text/plain": [
       "<Figure size 720x576 with 1 Axes>"
      ]
     },
     "metadata": {
      "needs_background": "light"
     },
     "output_type": "display_data"
    }
   ],
   "source": [
    "plt.plot(data_train.loc[(data_train['target']==1, 'date') ].value_counts().sort_index());"
   ]
  },
  {
   "cell_type": "markdown",
   "id": "54fd6c15-5656-466f-9f09-3969ea9a8dcf",
   "metadata": {},
   "source": [
    "Смешанный график:"
   ]
  },
  {
   "cell_type": "code",
   "execution_count": 19,
   "id": "14801651-d076-4fcb-a3dc-e4f1572ed08c",
   "metadata": {},
   "outputs": [
    {
     "data": {
      "image/png": "[encoded data removed]",
      "text/plain": [
       "<Figure size 720x576 with 1 Axes>"
      ]
     },
     "metadata": {
      "needs_background": "light"
     },
     "output_type": "display_data"
    }
   ],
   "source": [
    "plt.hist(data_train.loc[(data_train['target']==0, 'date')], bins=50)\n",
    "plt.hist(data_train.loc[(data_train['target']==1, 'date')], bins=50, alpha=0.5)\n",
    "plt.show();"
   ]
  },
  {
   "cell_type": "markdown",
   "id": "2c470965-6080-49af-87f3-587ff919e9c2",
   "metadata": {},
   "source": [
    "По этому графику видно, что в ноябре 2018 количество пользователей, которые приобрели предложенную услугу, оказалось намного больше, чем отказавшихся. Найдём этот день:"
   ]
  },
  {
   "cell_type": "code",
   "execution_count": 20,
   "id": "cc603bcd-d47f-42b0-8eae-f5edffce3594",
   "metadata": {},
   "outputs": [
    {
     "data": {
      "text/plain": [
       "2018-11-19    15418\n",
       "Name: date, dtype: int64"
      ]
     },
     "execution_count": 20,
     "metadata": {},
     "output_type": "execute_result"
    }
   ],
   "source": [
    "data_train.loc[(data_train['target']==1, 'date')].value_counts().head(1)"
   ]
  },
  {
   "cell_type": "markdown",
   "id": "4ab41347-243f-4c4a-947d-4264cf4b9146",
   "metadata": {},
   "source": [
    "В дальнейшем следует удалить 19 ноября 2018 из выборки из-за сильной разницы с другими днями."
   ]
  },
  {
   "cell_type": "code",
   "execution_count": 21,
   "id": "57893998-43ea-4c1b-8ec7-7a1c8d871ac6",
   "metadata": {},
   "outputs": [
    {
     "data": {
      "image/png": "[encoded data removed]",
      "text/plain": [
       "<Figure size 720x576 with 1 Axes>"
      ]
     },
     "metadata": {
      "needs_background": "light"
     },
     "output_type": "display_data"
    }
   ],
   "source": [
    "for p in sorted(list(data_train['vas_id'].unique())):\n",
    "    plt.plot(data_train.loc[(data_train['vas_id']==p, 'date') ].value_counts().sort_index(), label=p)\n",
    "plt.hist(data_train.loc[(data_train['target']==1, 'date') ], bins=50, alpha=0.5)\n",
    "plt.legend()\n",
    "plt.show();"
   ]
  },
  {
   "cell_type": "markdown",
   "id": "bb16a31a-2c91-461f-a93c-c04e48d01ee5",
   "metadata": {},
   "source": [
    "По этому графику видим, что количество предложений по услугам 1 и 2 постепенно уменьшалось, но к середине декабря произошёл резкий скачок (вместе с услугами 4 и 5). Особенно сильно подскочила услуга № 2. Вероятно, такой скачок связан с новогодними праздниками, поскольку в этот период часто бывают акции. Услуги 3, 6, 7 и 8 такого эффекта не имели. Кроме того, к декабрю услуга № 3 пошла на спад по количеству предложений. Возможно, с начала ноября эту услугу подключило достаточное количество людей."
   ]
  },
  {
   "cell_type": "code",
   "execution_count": 22,
   "id": "853bfde4-1fbe-4d61-9581-46cfd5f2e0c5",
   "metadata": {},
   "outputs": [
    {
     "data": {
      "image/png": "[encoded data removed]",
      "text/plain": [
       "<Figure size 720x576 with 1 Axes>"
      ]
     },
     "metadata": {
      "needs_background": "light"
     },
     "output_type": "display_data"
    }
   ],
   "source": [
    "for p in sorted(list(data_train['vas_id'].unique())):\n",
    "    plt.plot(data_train.loc[((data_train['vas_id']==p) & (data_train['target']==1), 'date') ].value_counts().sort_index(), label=p)\n",
    "plt.hist(data_train.loc[(data_train['target']==1, 'date') ], bins=50, alpha=0.5)\n",
    "plt.legend()\n",
    "plt.show();"
   ]
  },
  {
   "cell_type": "markdown",
   "id": "a31d95dd-4734-4e64-ba36-3650f02d410b",
   "metadata": {},
   "source": [
    "Видим, что лидерами по подключениям являются услуги 3 и 5. Действительно, услуга № 3 имела успех в ноябре, затем компания сделала акцент на других услугах перед новогодними праздниками, и уже в этот период самой эффективной оказалась услуга № 5. Кроме того, у услуги № 5 количество предложений практически совпадает с количеством подключений."
   ]
  },
  {
   "cell_type": "markdown",
   "id": "dd89b348-08ed-4431-acea-bd7c977f8030",
   "metadata": {},
   "source": [
    "Посмотрим эти значения в цифрах:"
   ]
  },
  {
   "cell_type": "code",
   "execution_count": 23,
   "id": "19ddb22c-26d6-44a5-8e0c-4b8ee5de5a1c",
   "metadata": {},
   "outputs": [],
   "source": [
    "data_train_0 = data_train.loc[(data_train['target']==0, 'vas_id')].value_counts().sort_index()\n",
    "data_train_1 = data_train.loc[(data_train['target']==1, 'vas_id')].value_counts().sort_index()\n",
    "\n",
    "data_train_01 = {\n",
    "    'vas_id': [],\n",
    "    '0': [],\n",
    "    '1': []\n",
    "}\n",
    "\n",
    "data_train_01['vas_id'] = (list(data_train_0.index))\n",
    "data_train_01['0'] = (list(data_train_0.values))\n",
    "data_train_01['1'] = (list(data_train_1.values))"
   ]
  },
  {
   "cell_type": "code",
   "execution_count": 24,
   "id": "61669049-6503-410d-80e2-863a2d805d3f",
   "metadata": {},
   "outputs": [
    {
     "data": {
      "text/html": [
       "<div>\n",
       "<style scoped>\n",
       "    .dataframe tbody tr th:only-of-type {\n",
       "        vertical-align: middle;\n",
       "    }\n",
       "\n",
       "    .dataframe tbody tr th {\n",
       "        vertical-align: top;\n",
       "    }\n",
       "\n",
       "    .dataframe thead th {\n",
       "        text-align: right;\n",
       "    }\n",
       "</style>\n",
       "<table border=\"1\" class=\"dataframe\">\n",
       "  <thead>\n",
       "    <tr style=\"text-align: right;\">\n",
       "      <th></th>\n",
       "      <th>vas_id</th>\n",
       "      <th>0</th>\n",
       "      <th>1</th>\n",
       "    </tr>\n",
       "  </thead>\n",
       "  <tbody>\n",
       "    <tr>\n",
       "      <th>0</th>\n",
       "      <td>1</td>\n",
       "      <td>304511</td>\n",
       "      <td>5664</td>\n",
       "    </tr>\n",
       "    <tr>\n",
       "      <th>1</th>\n",
       "      <td>2</td>\n",
       "      <td>244708</td>\n",
       "      <td>4797</td>\n",
       "    </tr>\n",
       "    <tr>\n",
       "      <th>2</th>\n",
       "      <td>3</td>\n",
       "      <td>63991</td>\n",
       "      <td>21765</td>\n",
       "    </tr>\n",
       "    <tr>\n",
       "      <th>3</th>\n",
       "      <td>4</td>\n",
       "      <td>92393</td>\n",
       "      <td>1692</td>\n",
       "    </tr>\n",
       "    <tr>\n",
       "      <th>4</th>\n",
       "      <td>5</td>\n",
       "      <td>33174</td>\n",
       "      <td>24704</td>\n",
       "    </tr>\n",
       "    <tr>\n",
       "      <th>5</th>\n",
       "      <td>6</td>\n",
       "      <td>15219</td>\n",
       "      <td>213</td>\n",
       "    </tr>\n",
       "    <tr>\n",
       "      <th>6</th>\n",
       "      <td>7</td>\n",
       "      <td>13003</td>\n",
       "      <td>347</td>\n",
       "    </tr>\n",
       "    <tr>\n",
       "      <th>7</th>\n",
       "      <td>8</td>\n",
       "      <td>4468</td>\n",
       "      <td>1004</td>\n",
       "    </tr>\n",
       "  </tbody>\n",
       "</table>\n",
       "</div>"
      ],
      "text/plain": [
       "   vas_id       0      1\n",
       "0       1  304511   5664\n",
       "1       2  244708   4797\n",
       "2       3   63991  21765\n",
       "3       4   92393   1692\n",
       "4       5   33174  24704\n",
       "5       6   15219    213\n",
       "6       7   13003    347\n",
       "7       8    4468   1004"
      ]
     },
     "execution_count": 24,
     "metadata": {},
     "output_type": "execute_result"
    }
   ],
   "source": [
    "pd.DataFrame(data_train_01)"
   ]
  },
  {
   "cell_type": "markdown",
   "id": "b1b1c7d4-a482-4d5a-b1b6-0647769a5ef9",
   "metadata": {},
   "source": [
    "Относительные значения:"
   ]
  },
  {
   "cell_type": "code",
   "execution_count": 25,
   "id": "ed398299-e14e-47c0-a828-76f4c3726551",
   "metadata": {},
   "outputs": [],
   "source": [
    "data_train_01_normalize = {\n",
    "    'vas_id': [],\n",
    "    '0': [],\n",
    "    '1': []\n",
    "}\n",
    "\n",
    "for v_id in np.sort(data_train['vas_id'].unique()):\n",
    "    data_train_01_normalize['vas_id'].append(v_id)\n",
    "    data_train_0_normalize = data_train[data_train['vas_id'] == v_id]['target'].value_counts()[0] \\\n",
    "                             / len(data_train[data_train['vas_id'] == v_id]['target'])\n",
    "    data_train_1_normalize = data_train[data_train['vas_id'] == v_id]['target'].value_counts()[1] \\\n",
    "                             / len(data_train[data_train['vas_id'] == v_id]['target'])\n",
    "    data_train_01_normalize['0'].append(round(data_train_0_normalize, 2))\n",
    "    data_train_01_normalize['1'].append(round(data_train_1_normalize, 2))"
   ]
  },
  {
   "cell_type": "code",
   "execution_count": 26,
   "id": "928d2415-40dc-4943-93bb-1bf910ad49be",
   "metadata": {},
   "outputs": [
    {
     "data": {
      "text/html": [
       "<div>\n",
       "<style scoped>\n",
       "    .dataframe tbody tr th:only-of-type {\n",
       "        vertical-align: middle;\n",
       "    }\n",
       "\n",
       "    .dataframe tbody tr th {\n",
       "        vertical-align: top;\n",
       "    }\n",
       "\n",
       "    .dataframe thead th {\n",
       "        text-align: right;\n",
       "    }\n",
       "</style>\n",
       "<table border=\"1\" class=\"dataframe\">\n",
       "  <thead>\n",
       "    <tr style=\"text-align: right;\">\n",
       "      <th></th>\n",
       "      <th>vas_id</th>\n",
       "      <th>0</th>\n",
       "      <th>1</th>\n",
       "    </tr>\n",
       "  </thead>\n",
       "  <tbody>\n",
       "    <tr>\n",
       "      <th>0</th>\n",
       "      <td>1</td>\n",
       "      <td>0.98</td>\n",
       "      <td>0.02</td>\n",
       "    </tr>\n",
       "    <tr>\n",
       "      <th>1</th>\n",
       "      <td>2</td>\n",
       "      <td>0.98</td>\n",
       "      <td>0.02</td>\n",
       "    </tr>\n",
       "    <tr>\n",
       "      <th>2</th>\n",
       "      <td>3</td>\n",
       "      <td>0.75</td>\n",
       "      <td>0.25</td>\n",
       "    </tr>\n",
       "    <tr>\n",
       "      <th>3</th>\n",
       "      <td>4</td>\n",
       "      <td>0.98</td>\n",
       "      <td>0.02</td>\n",
       "    </tr>\n",
       "    <tr>\n",
       "      <th>4</th>\n",
       "      <td>5</td>\n",
       "      <td>0.57</td>\n",
       "      <td>0.43</td>\n",
       "    </tr>\n",
       "    <tr>\n",
       "      <th>5</th>\n",
       "      <td>6</td>\n",
       "      <td>0.99</td>\n",
       "      <td>0.01</td>\n",
       "    </tr>\n",
       "    <tr>\n",
       "      <th>6</th>\n",
       "      <td>7</td>\n",
       "      <td>0.97</td>\n",
       "      <td>0.03</td>\n",
       "    </tr>\n",
       "    <tr>\n",
       "      <th>7</th>\n",
       "      <td>8</td>\n",
       "      <td>0.82</td>\n",
       "      <td>0.18</td>\n",
       "    </tr>\n",
       "  </tbody>\n",
       "</table>\n",
       "</div>"
      ],
      "text/plain": [
       "   vas_id     0     1\n",
       "0       1  0.98  0.02\n",
       "1       2  0.98  0.02\n",
       "2       3  0.75  0.25\n",
       "3       4  0.98  0.02\n",
       "4       5  0.57  0.43\n",
       "5       6  0.99  0.01\n",
       "6       7  0.97  0.03\n",
       "7       8  0.82  0.18"
      ]
     },
     "execution_count": 26,
     "metadata": {},
     "output_type": "execute_result"
    }
   ],
   "source": [
    "pd.DataFrame(data_train_01_normalize)"
   ]
  },
  {
   "cell_type": "markdown",
   "id": "f42d4ae3-f203-48f6-93aa-28ae903246bf",
   "metadata": {},
   "source": [
    "Удалим из выборки 19 ноября 2018, как и планировали ранее:"
   ]
  },
  {
   "cell_type": "code",
   "execution_count": 27,
   "id": "b06640ec-3657-4bb1-a257-10543911531d",
   "metadata": {},
   "outputs": [],
   "source": [
    "data_train = data_train[data_train['buy_time'] != int(datetime(2018, 11, 19).timestamp())]"
   ]
  },
  {
   "cell_type": "markdown",
   "id": "3837694d-e940-43d5-9964-04f048421b66",
   "metadata": {},
   "source": [
    "Проверим графики ещё раз:"
   ]
  },
  {
   "cell_type": "code",
   "execution_count": 28,
   "id": "aa8395cb-64f1-4245-86ff-30404c7e2b4e",
   "metadata": {},
   "outputs": [
    {
     "data": {
      "image/png": "[encoded data removed]",
      "text/plain": [
       "<Figure size 720x576 with 1 Axes>"
      ]
     },
     "metadata": {
      "needs_background": "light"
     },
     "output_type": "display_data"
    }
   ],
   "source": [
    "plt.plot(data_train.loc[(data_train['target']==0, 'date')].value_counts().sort_index());"
   ]
  },
  {
   "cell_type": "code",
   "execution_count": 29,
   "id": "508f03d8-2216-4508-8af4-f5c98cbb9f6a",
   "metadata": {},
   "outputs": [
    {
     "data": {
      "image/png": "[encoded data removed]",
      "text/plain": [
       "<Figure size 720x576 with 1 Axes>"
      ]
     },
     "metadata": {
      "needs_background": "light"
     },
     "output_type": "display_data"
    }
   ],
   "source": [
    "plt.plot(data_train.loc[(data_train['target']==1, 'date')].value_counts().sort_index());"
   ]
  },
  {
   "cell_type": "code",
   "execution_count": 30,
   "id": "ccabf608-ca7f-4632-b3d5-3bd360b651fa",
   "metadata": {},
   "outputs": [
    {
     "data": {
      "image/png": "[encoded data removed]",
      "text/plain": [
       "<Figure size 720x576 with 1 Axes>"
      ]
     },
     "metadata": {
      "needs_background": "light"
     },
     "output_type": "display_data"
    }
   ],
   "source": [
    "plt.hist(data_train.loc[(data_train['target']==0, 'date')], bins=50)\n",
    "plt.hist(data_train.loc[(data_train['target']==1, 'date')], bins=50, alpha=0.5)\n",
    "plt.show();"
   ]
  },
  {
   "cell_type": "markdown",
   "id": "73362205-fb7e-4963-ace0-5160960e1f0a",
   "metadata": {},
   "source": [
    "#### Объединение data_train с features"
   ]
  },
  {
   "cell_type": "markdown",
   "id": "d64490dc-0bc6-4e03-a048-c67836b7ed59",
   "metadata": {},
   "source": [
    "Сперва уберём из features тех пользователей, которых нет в data_train:"
   ]
  },
  {
   "cell_type": "code",
   "execution_count": 31,
   "id": "0c01e46d-7246-4e6a-887d-3341da4ecb74",
   "metadata": {},
   "outputs": [],
   "source": [
    "ids = data_train['id'].unique()\n",
    "features = features.compute()\n",
    "features = features.loc[(features['id'].isin(ids))]"
   ]
  },
  {
   "cell_type": "code",
   "execution_count": 32,
   "id": "81900ab0-bd11-4423-88f0-995adcaf415a",
   "metadata": {},
   "outputs": [
    {
     "data": {
      "text/html": [
       "<div>\n",
       "<style scoped>\n",
       "    .dataframe tbody tr th:only-of-type {\n",
       "        vertical-align: middle;\n",
       "    }\n",
       "\n",
       "    .dataframe tbody tr th {\n",
       "        vertical-align: top;\n",
       "    }\n",
       "\n",
       "    .dataframe thead th {\n",
       "        text-align: right;\n",
       "    }\n",
       "</style>\n",
       "<table border=\"1\" class=\"dataframe\">\n",
       "  <thead>\n",
       "    <tr style=\"text-align: right;\">\n",
       "      <th></th>\n",
       "      <th>id</th>\n",
       "      <th>buy_time</th>\n",
       "      <th>0</th>\n",
       "      <th>1</th>\n",
       "      <th>2</th>\n",
       "      <th>3</th>\n",
       "      <th>4</th>\n",
       "      <th>5</th>\n",
       "      <th>6</th>\n",
       "      <th>7</th>\n",
       "      <th>...</th>\n",
       "      <th>243</th>\n",
       "      <th>244</th>\n",
       "      <th>245</th>\n",
       "      <th>246</th>\n",
       "      <th>247</th>\n",
       "      <th>248</th>\n",
       "      <th>249</th>\n",
       "      <th>250</th>\n",
       "      <th>251</th>\n",
       "      <th>252</th>\n",
       "    </tr>\n",
       "  </thead>\n",
       "  <tbody>\n",
       "    <tr>\n",
       "      <th>13</th>\n",
       "      <td>2046132</td>\n",
       "      <td>1534712400</td>\n",
       "      <td>300.820029</td>\n",
       "      <td>1599.480888</td>\n",
       "      <td>286.879214</td>\n",
       "      <td>1585.013202</td>\n",
       "      <td>281.461754</td>\n",
       "      <td>1563.90821</td>\n",
       "      <td>-16.08618</td>\n",
       "      <td>654.013903</td>\n",
       "      <td>...</td>\n",
       "      <td>-977.373846</td>\n",
       "      <td>-613.770792</td>\n",
       "      <td>-25.996269</td>\n",
       "      <td>-35.630448</td>\n",
       "      <td>-295.747724</td>\n",
       "      <td>-17.832889</td>\n",
       "      <td>-0.694428</td>\n",
       "      <td>-4.175933</td>\n",
       "      <td>-0.45614</td>\n",
       "      <td>0.0</td>\n",
       "    </tr>\n",
       "    <tr>\n",
       "      <th>16</th>\n",
       "      <td>2050810</td>\n",
       "      <td>1540760400</td>\n",
       "      <td>-86.209971</td>\n",
       "      <td>91.820888</td>\n",
       "      <td>-84.480786</td>\n",
       "      <td>110.333202</td>\n",
       "      <td>-89.898246</td>\n",
       "      <td>89.22821</td>\n",
       "      <td>-16.08618</td>\n",
       "      <td>-65.076097</td>\n",
       "      <td>...</td>\n",
       "      <td>-977.373846</td>\n",
       "      <td>-613.770792</td>\n",
       "      <td>-23.996269</td>\n",
       "      <td>190.369552</td>\n",
       "      <td>-286.747724</td>\n",
       "      <td>-25.832889</td>\n",
       "      <td>-0.694428</td>\n",
       "      <td>-12.175933</td>\n",
       "      <td>-0.45614</td>\n",
       "      <td>0.0</td>\n",
       "    </tr>\n",
       "    <tr>\n",
       "      <th>19</th>\n",
       "      <td>2070757</td>\n",
       "      <td>1540760400</td>\n",
       "      <td>-96.799971</td>\n",
       "      <td>-408.179112</td>\n",
       "      <td>-110.740786</td>\n",
       "      <td>-460.786798</td>\n",
       "      <td>-114.038246</td>\n",
       "      <td>-479.77179</td>\n",
       "      <td>-16.08618</td>\n",
       "      <td>-65.076097</td>\n",
       "      <td>...</td>\n",
       "      <td>-925.373846</td>\n",
       "      <td>-561.770792</td>\n",
       "      <td>-21.996269</td>\n",
       "      <td>-37.630448</td>\n",
       "      <td>-151.747724</td>\n",
       "      <td>-24.832889</td>\n",
       "      <td>0.305572</td>\n",
       "      <td>-12.175933</td>\n",
       "      <td>-0.45614</td>\n",
       "      <td>1.0</td>\n",
       "    </tr>\n",
       "    <tr>\n",
       "      <th>20</th>\n",
       "      <td>2071522</td>\n",
       "      <td>1544994000</td>\n",
       "      <td>-94.939971</td>\n",
       "      <td>-363.699112</td>\n",
       "      <td>-108.880786</td>\n",
       "      <td>-411.226798</td>\n",
       "      <td>-114.298246</td>\n",
       "      <td>-432.33179</td>\n",
       "      <td>-16.08618</td>\n",
       "      <td>-65.076097</td>\n",
       "      <td>...</td>\n",
       "      <td>-977.373846</td>\n",
       "      <td>-613.770792</td>\n",
       "      <td>-25.996269</td>\n",
       "      <td>-37.630448</td>\n",
       "      <td>-306.747724</td>\n",
       "      <td>-25.832889</td>\n",
       "      <td>-0.694428</td>\n",
       "      <td>-12.175933</td>\n",
       "      <td>-0.45614</td>\n",
       "      <td>0.0</td>\n",
       "    </tr>\n",
       "  </tbody>\n",
       "</table>\n",
       "<p>4 rows × 255 columns</p>\n",
       "</div>"
      ],
      "text/plain": [
       "         id    buy_time           0            1           2            3  \\\n",
       "13  2046132  1534712400  300.820029  1599.480888  286.879214  1585.013202   \n",
       "16  2050810  1540760400  -86.209971    91.820888  -84.480786   110.333202   \n",
       "19  2070757  1540760400  -96.799971  -408.179112 -110.740786  -460.786798   \n",
       "20  2071522  1544994000  -94.939971  -363.699112 -108.880786  -411.226798   \n",
       "\n",
       "             4           5         6           7  ...         243         244  \\\n",
       "13  281.461754  1563.90821 -16.08618  654.013903  ... -977.373846 -613.770792   \n",
       "16  -89.898246    89.22821 -16.08618  -65.076097  ... -977.373846 -613.770792   \n",
       "19 -114.038246  -479.77179 -16.08618  -65.076097  ... -925.373846 -561.770792   \n",
       "20 -114.298246  -432.33179 -16.08618  -65.076097  ... -977.373846 -613.770792   \n",
       "\n",
       "          245         246         247        248       249        250  \\\n",
       "13 -25.996269  -35.630448 -295.747724 -17.832889 -0.694428  -4.175933   \n",
       "16 -23.996269  190.369552 -286.747724 -25.832889 -0.694428 -12.175933   \n",
       "19 -21.996269  -37.630448 -151.747724 -24.832889  0.305572 -12.175933   \n",
       "20 -25.996269  -37.630448 -306.747724 -25.832889 -0.694428 -12.175933   \n",
       "\n",
       "        251  252  \n",
       "13 -0.45614  0.0  \n",
       "16 -0.45614  0.0  \n",
       "19 -0.45614  1.0  \n",
       "20 -0.45614  0.0  \n",
       "\n",
       "[4 rows x 255 columns]"
      ]
     },
     "execution_count": 32,
     "metadata": {},
     "output_type": "execute_result"
    }
   ],
   "source": [
    "features.head(4)"
   ]
  },
  {
   "cell_type": "markdown",
   "id": "a7637ae3-bd07-4593-bf07-1cc5965fe6bc",
   "metadata": {},
   "source": [
    "Отсортируем датасеты по времени (признаку buy_time):"
   ]
  },
  {
   "cell_type": "code",
   "execution_count": 33,
   "id": "0c688e4f-4c27-4e76-91fb-977e1f00a680",
   "metadata": {},
   "outputs": [],
   "source": [
    "data_train = data_train.sort_index().sort_values(by='buy_time')"
   ]
  },
  {
   "cell_type": "code",
   "execution_count": 34,
   "id": "b25c9580-297b-4335-a051-e46c6e8c7493",
   "metadata": {},
   "outputs": [
    {
     "data": {
      "text/html": [
       "<div>\n",
       "<style scoped>\n",
       "    .dataframe tbody tr th:only-of-type {\n",
       "        vertical-align: middle;\n",
       "    }\n",
       "\n",
       "    .dataframe tbody tr th {\n",
       "        vertical-align: top;\n",
       "    }\n",
       "\n",
       "    .dataframe thead th {\n",
       "        text-align: right;\n",
       "    }\n",
       "</style>\n",
       "<table border=\"1\" class=\"dataframe\">\n",
       "  <thead>\n",
       "    <tr style=\"text-align: right;\">\n",
       "      <th></th>\n",
       "      <th>id</th>\n",
       "      <th>vas_id</th>\n",
       "      <th>buy_time</th>\n",
       "      <th>target</th>\n",
       "      <th>date</th>\n",
       "    </tr>\n",
       "  </thead>\n",
       "  <tbody>\n",
       "    <tr>\n",
       "      <th>327202</th>\n",
       "      <td>2814496</td>\n",
       "      <td>2</td>\n",
       "      <td>1531083600</td>\n",
       "      <td>0.0</td>\n",
       "      <td>2018-07-09</td>\n",
       "    </tr>\n",
       "    <tr>\n",
       "      <th>339405</th>\n",
       "      <td>212196</td>\n",
       "      <td>4</td>\n",
       "      <td>1531083600</td>\n",
       "      <td>0.0</td>\n",
       "      <td>2018-07-09</td>\n",
       "    </tr>\n",
       "    <tr>\n",
       "      <th>440499</th>\n",
       "      <td>3929509</td>\n",
       "      <td>2</td>\n",
       "      <td>1531083600</td>\n",
       "      <td>0.0</td>\n",
       "      <td>2018-07-09</td>\n",
       "    </tr>\n",
       "    <tr>\n",
       "      <th>303275</th>\n",
       "      <td>2379697</td>\n",
       "      <td>2</td>\n",
       "      <td>1531083600</td>\n",
       "      <td>0.0</td>\n",
       "      <td>2018-07-09</td>\n",
       "    </tr>\n",
       "  </tbody>\n",
       "</table>\n",
       "</div>"
      ],
      "text/plain": [
       "             id  vas_id    buy_time  target        date\n",
       "327202  2814496       2  1531083600     0.0  2018-07-09\n",
       "339405   212196       4  1531083600     0.0  2018-07-09\n",
       "440499  3929509       2  1531083600     0.0  2018-07-09\n",
       "303275  2379697       2  1531083600     0.0  2018-07-09"
      ]
     },
     "execution_count": 34,
     "metadata": {},
     "output_type": "execute_result"
    }
   ],
   "source": [
    "data_train.head(4)"
   ]
  },
  {
   "cell_type": "code",
   "execution_count": 35,
   "id": "28110d5a-623c-46ca-96d6-b77767d889fd",
   "metadata": {},
   "outputs": [],
   "source": [
    "features = features.sort_values(by='buy_time')"
   ]
  },
  {
   "cell_type": "code",
   "execution_count": 36,
   "id": "277c7b07-75e6-44d6-b293-746f0b91081f",
   "metadata": {},
   "outputs": [
    {
     "data": {
      "text/html": [
       "<div>\n",
       "<style scoped>\n",
       "    .dataframe tbody tr th:only-of-type {\n",
       "        vertical-align: middle;\n",
       "    }\n",
       "\n",
       "    .dataframe tbody tr th {\n",
       "        vertical-align: top;\n",
       "    }\n",
       "\n",
       "    .dataframe thead th {\n",
       "        text-align: right;\n",
       "    }\n",
       "</style>\n",
       "<table border=\"1\" class=\"dataframe\">\n",
       "  <thead>\n",
       "    <tr style=\"text-align: right;\">\n",
       "      <th></th>\n",
       "      <th>id</th>\n",
       "      <th>buy_time</th>\n",
       "      <th>0</th>\n",
       "      <th>1</th>\n",
       "      <th>2</th>\n",
       "      <th>3</th>\n",
       "      <th>4</th>\n",
       "      <th>5</th>\n",
       "      <th>6</th>\n",
       "      <th>7</th>\n",
       "      <th>...</th>\n",
       "      <th>243</th>\n",
       "      <th>244</th>\n",
       "      <th>245</th>\n",
       "      <th>246</th>\n",
       "      <th>247</th>\n",
       "      <th>248</th>\n",
       "      <th>249</th>\n",
       "      <th>250</th>\n",
       "      <th>251</th>\n",
       "      <th>252</th>\n",
       "    </tr>\n",
       "  </thead>\n",
       "  <tbody>\n",
       "    <tr>\n",
       "      <th>9426</th>\n",
       "      <td>1012743</td>\n",
       "      <td>1531083600</td>\n",
       "      <td>384.760029</td>\n",
       "      <td>74.650888</td>\n",
       "      <td>370.819214</td>\n",
       "      <td>22.043202</td>\n",
       "      <td>365.401754</td>\n",
       "      <td>0.93821</td>\n",
       "      <td>-13.34618</td>\n",
       "      <td>-62.336097</td>\n",
       "      <td>...</td>\n",
       "      <td>469.626154</td>\n",
       "      <td>-613.770792</td>\n",
       "      <td>110.003731</td>\n",
       "      <td>-37.630448</td>\n",
       "      <td>-136.747724</td>\n",
       "      <td>-24.832889</td>\n",
       "      <td>-0.694428</td>\n",
       "      <td>-11.175933</td>\n",
       "      <td>-0.45614</td>\n",
       "      <td>0.0</td>\n",
       "    </tr>\n",
       "    <tr>\n",
       "      <th>146</th>\n",
       "      <td>1865910</td>\n",
       "      <td>1531083600</td>\n",
       "      <td>-12.169971</td>\n",
       "      <td>-136.499112</td>\n",
       "      <td>-26.110786</td>\n",
       "      <td>-108.596798</td>\n",
       "      <td>-31.528246</td>\n",
       "      <td>-129.70179</td>\n",
       "      <td>-16.08618</td>\n",
       "      <td>-65.076097</td>\n",
       "      <td>...</td>\n",
       "      <td>-977.373846</td>\n",
       "      <td>-613.770792</td>\n",
       "      <td>-25.996269</td>\n",
       "      <td>-37.630448</td>\n",
       "      <td>-306.747724</td>\n",
       "      <td>-25.832889</td>\n",
       "      <td>-0.694428</td>\n",
       "      <td>-12.175933</td>\n",
       "      <td>-0.45614</td>\n",
       "      <td>1.0</td>\n",
       "    </tr>\n",
       "    <tr>\n",
       "      <th>8940</th>\n",
       "      <td>2880246</td>\n",
       "      <td>1531083600</td>\n",
       "      <td>-96.799971</td>\n",
       "      <td>222.750888</td>\n",
       "      <td>-66.240786</td>\n",
       "      <td>270.973202</td>\n",
       "      <td>-71.658246</td>\n",
       "      <td>249.86821</td>\n",
       "      <td>-16.08618</td>\n",
       "      <td>-65.076097</td>\n",
       "      <td>...</td>\n",
       "      <td>-249.373846</td>\n",
       "      <td>-82.770792</td>\n",
       "      <td>-23.996269</td>\n",
       "      <td>-37.630448</td>\n",
       "      <td>-274.747724</td>\n",
       "      <td>113.167111</td>\n",
       "      <td>-0.694428</td>\n",
       "      <td>126.824067</td>\n",
       "      <td>-0.45614</td>\n",
       "      <td>0.0</td>\n",
       "    </tr>\n",
       "    <tr>\n",
       "      <th>7255</th>\n",
       "      <td>1661200</td>\n",
       "      <td>1531083600</td>\n",
       "      <td>390.500029</td>\n",
       "      <td>290.980888</td>\n",
       "      <td>392.659214</td>\n",
       "      <td>257.613202</td>\n",
       "      <td>387.241754</td>\n",
       "      <td>236.50821</td>\n",
       "      <td>259.35382</td>\n",
       "      <td>210.363903</td>\n",
       "      <td>...</td>\n",
       "      <td>-580.373846</td>\n",
       "      <td>-609.770792</td>\n",
       "      <td>-25.996269</td>\n",
       "      <td>98.369552</td>\n",
       "      <td>758.252276</td>\n",
       "      <td>-18.832889</td>\n",
       "      <td>-0.694428</td>\n",
       "      <td>-5.175933</td>\n",
       "      <td>-0.45614</td>\n",
       "      <td>0.0</td>\n",
       "    </tr>\n",
       "  </tbody>\n",
       "</table>\n",
       "<p>4 rows × 255 columns</p>\n",
       "</div>"
      ],
      "text/plain": [
       "           id    buy_time           0           1           2           3  \\\n",
       "9426  1012743  1531083600  384.760029   74.650888  370.819214   22.043202   \n",
       "146   1865910  1531083600  -12.169971 -136.499112  -26.110786 -108.596798   \n",
       "8940  2880246  1531083600  -96.799971  222.750888  -66.240786  270.973202   \n",
       "7255  1661200  1531083600  390.500029  290.980888  392.659214  257.613202   \n",
       "\n",
       "               4          5          6           7  ...         243  \\\n",
       "9426  365.401754    0.93821  -13.34618  -62.336097  ...  469.626154   \n",
       "146   -31.528246 -129.70179  -16.08618  -65.076097  ... -977.373846   \n",
       "8940  -71.658246  249.86821  -16.08618  -65.076097  ... -249.373846   \n",
       "7255  387.241754  236.50821  259.35382  210.363903  ... -580.373846   \n",
       "\n",
       "             244         245        246         247         248       249  \\\n",
       "9426 -613.770792  110.003731 -37.630448 -136.747724  -24.832889 -0.694428   \n",
       "146  -613.770792  -25.996269 -37.630448 -306.747724  -25.832889 -0.694428   \n",
       "8940  -82.770792  -23.996269 -37.630448 -274.747724  113.167111 -0.694428   \n",
       "7255 -609.770792  -25.996269  98.369552  758.252276  -18.832889 -0.694428   \n",
       "\n",
       "             250      251  252  \n",
       "9426  -11.175933 -0.45614  0.0  \n",
       "146   -12.175933 -0.45614  1.0  \n",
       "8940  126.824067 -0.45614  0.0  \n",
       "7255   -5.175933 -0.45614  0.0  \n",
       "\n",
       "[4 rows x 255 columns]"
      ]
     },
     "execution_count": 36,
     "metadata": {},
     "output_type": "execute_result"
    }
   ],
   "source": [
    "features.head(4)"
   ]
  },
  {
   "cell_type": "markdown",
   "id": "4e1c8127-8c65-4bb1-a20d-bbbb778913c2",
   "metadata": {},
   "source": [
    "Важно, чтобы в датасете features были строки с пользователями, у которых дата либо меньше, либо равна аналогичному пользователю из датасета data_train."
   ]
  },
  {
   "cell_type": "markdown",
   "id": "dd881355-cb61-4ff9-8827-326c53e10135",
   "metadata": {},
   "source": [
    "Затем объединим датасеты по id пользователей:"
   ]
  },
  {
   "cell_type": "code",
   "execution_count": 37,
   "id": "a92b4358-6412-4880-bb16-0f41b1ab0de9",
   "metadata": {},
   "outputs": [],
   "source": [
    "train_data = pd.merge_asof(data_train, features, on='buy_time', by='id', direction='nearest')"
   ]
  },
  {
   "cell_type": "markdown",
   "id": "a8d3a3e1-a7a5-448e-970c-9df221790f0d",
   "metadata": {},
   "source": [
    "Добавим в датасет train_data 3 новых признака (день, неделю и месяц):"
   ]
  },
  {
   "cell_type": "code",
   "execution_count": 38,
   "id": "d6f58aa0-9dd6-40f0-9ca4-88f9d3761d3a",
   "metadata": {},
   "outputs": [],
   "source": [
    "train_data['day'] = train_data['date'].apply(lambda x: pd.to_datetime(x).day)\n",
    "train_data['week'] = train_data['date'].apply(lambda x: pd.to_datetime(x).day // 7)\n",
    "train_data['month'] = train_data['date'].apply(lambda x: pd.to_datetime(x).month)"
   ]
  },
  {
   "cell_type": "markdown",
   "id": "af400096-1dfa-4806-95c0-2e37388f48da",
   "metadata": {},
   "source": [
    "Удалим признаки buy_time и date:"
   ]
  },
  {
   "cell_type": "code",
   "execution_count": 39,
   "id": "ad390832-7100-44a4-b4b0-f7f405208a3e",
   "metadata": {},
   "outputs": [],
   "source": [
    "train_data = train_data.drop('buy_time', axis=1)\n",
    "train_data = train_data.drop('date', axis=1)"
   ]
  },
  {
   "cell_type": "markdown",
   "id": "0a434a99-d571-4119-86a9-76cd6850865e",
   "metadata": {},
   "source": [
    "Конвертируем признаки типа float64 в тип float32, чтобы уменьшить вес датасета:"
   ]
  },
  {
   "cell_type": "code",
   "execution_count": 40,
   "id": "dd4a029a-e07c-4140-87f1-e1c49ce67f11",
   "metadata": {},
   "outputs": [],
   "source": [
    "train_data[train_data.select_dtypes(np.float64).columns] = train_data.select_dtypes(np.float64).astype(np.float32)"
   ]
  },
  {
   "cell_type": "code",
   "execution_count": 41,
   "id": "d9b0973e-260c-48ef-9c76-045d3e66a1d8",
   "metadata": {},
   "outputs": [
    {
     "name": "stdout",
     "output_type": "stream",
     "text": [
      "<class 'pandas.core.frame.DataFrame'>\n",
      "Int64Index: 808738 entries, 0 to 808737\n",
      "Columns: 259 entries, id to month\n",
      "dtypes: float32(254), int64(5)\n",
      "memory usage: 820.6 MB\n"
     ]
    }
   ],
   "source": [
    "train_data.info()"
   ]
  },
  {
   "cell_type": "code",
   "execution_count": 42,
   "id": "6af5f354-a97c-44ec-92e1-a33d0912b23f",
   "metadata": {},
   "outputs": [
    {
     "data": {
      "text/html": [
       "<div>\n",
       "<style scoped>\n",
       "    .dataframe tbody tr th:only-of-type {\n",
       "        vertical-align: middle;\n",
       "    }\n",
       "\n",
       "    .dataframe tbody tr th {\n",
       "        vertical-align: top;\n",
       "    }\n",
       "\n",
       "    .dataframe thead th {\n",
       "        text-align: right;\n",
       "    }\n",
       "</style>\n",
       "<table border=\"1\" class=\"dataframe\">\n",
       "  <thead>\n",
       "    <tr style=\"text-align: right;\">\n",
       "      <th></th>\n",
       "      <th>id</th>\n",
       "      <th>vas_id</th>\n",
       "      <th>target</th>\n",
       "      <th>0</th>\n",
       "      <th>1</th>\n",
       "      <th>2</th>\n",
       "      <th>3</th>\n",
       "      <th>4</th>\n",
       "      <th>5</th>\n",
       "      <th>6</th>\n",
       "      <th>...</th>\n",
       "      <th>246</th>\n",
       "      <th>247</th>\n",
       "      <th>248</th>\n",
       "      <th>249</th>\n",
       "      <th>250</th>\n",
       "      <th>251</th>\n",
       "      <th>252</th>\n",
       "      <th>day</th>\n",
       "      <th>week</th>\n",
       "      <th>month</th>\n",
       "    </tr>\n",
       "  </thead>\n",
       "  <tbody>\n",
       "    <tr>\n",
       "      <th>0</th>\n",
       "      <td>2814496</td>\n",
       "      <td>2</td>\n",
       "      <td>0.0</td>\n",
       "      <td>-96.799973</td>\n",
       "      <td>430.990875</td>\n",
       "      <td>-110.740784</td>\n",
       "      <td>378.383209</td>\n",
       "      <td>-116.158249</td>\n",
       "      <td>357.278198</td>\n",
       "      <td>-16.08618</td>\n",
       "      <td>...</td>\n",
       "      <td>-37.630447</td>\n",
       "      <td>-291.747711</td>\n",
       "      <td>-25.832888</td>\n",
       "      <td>-0.694429</td>\n",
       "      <td>-12.175933</td>\n",
       "      <td>-0.45614</td>\n",
       "      <td>0.0</td>\n",
       "      <td>9</td>\n",
       "      <td>1</td>\n",
       "      <td>7</td>\n",
       "    </tr>\n",
       "    <tr>\n",
       "      <th>1</th>\n",
       "      <td>212196</td>\n",
       "      <td>4</td>\n",
       "      <td>0.0</td>\n",
       "      <td>-96.799973</td>\n",
       "      <td>7.070888</td>\n",
       "      <td>-110.740784</td>\n",
       "      <td>-45.536797</td>\n",
       "      <td>-116.158249</td>\n",
       "      <td>-66.641792</td>\n",
       "      <td>-16.08618</td>\n",
       "      <td>...</td>\n",
       "      <td>-37.630447</td>\n",
       "      <td>-195.747726</td>\n",
       "      <td>-24.832888</td>\n",
       "      <td>-0.694429</td>\n",
       "      <td>-11.175933</td>\n",
       "      <td>-0.45614</td>\n",
       "      <td>0.0</td>\n",
       "      <td>9</td>\n",
       "      <td>1</td>\n",
       "      <td>7</td>\n",
       "    </tr>\n",
       "    <tr>\n",
       "      <th>2</th>\n",
       "      <td>3929509</td>\n",
       "      <td>2</td>\n",
       "      <td>0.0</td>\n",
       "      <td>-56.129971</td>\n",
       "      <td>164.690887</td>\n",
       "      <td>10.429214</td>\n",
       "      <td>1116.273193</td>\n",
       "      <td>5.011754</td>\n",
       "      <td>1095.168213</td>\n",
       "      <td>24.58382</td>\n",
       "      <td>...</td>\n",
       "      <td>-37.630447</td>\n",
       "      <td>-302.747711</td>\n",
       "      <td>-24.832888</td>\n",
       "      <td>-0.694429</td>\n",
       "      <td>-11.175933</td>\n",
       "      <td>-0.45614</td>\n",
       "      <td>0.0</td>\n",
       "      <td>9</td>\n",
       "      <td>1</td>\n",
       "      <td>7</td>\n",
       "    </tr>\n",
       "    <tr>\n",
       "      <th>3</th>\n",
       "      <td>2379697</td>\n",
       "      <td>2</td>\n",
       "      <td>0.0</td>\n",
       "      <td>-96.799973</td>\n",
       "      <td>100.290886</td>\n",
       "      <td>-110.740784</td>\n",
       "      <td>47.683201</td>\n",
       "      <td>-116.158249</td>\n",
       "      <td>26.578211</td>\n",
       "      <td>-16.08618</td>\n",
       "      <td>...</td>\n",
       "      <td>-37.630447</td>\n",
       "      <td>-220.747726</td>\n",
       "      <td>-22.832888</td>\n",
       "      <td>-0.694429</td>\n",
       "      <td>-10.175933</td>\n",
       "      <td>-0.45614</td>\n",
       "      <td>0.0</td>\n",
       "      <td>9</td>\n",
       "      <td>1</td>\n",
       "      <td>7</td>\n",
       "    </tr>\n",
       "  </tbody>\n",
       "</table>\n",
       "<p>4 rows × 259 columns</p>\n",
       "</div>"
      ],
      "text/plain": [
       "        id  vas_id  target          0           1           2            3  \\\n",
       "0  2814496       2     0.0 -96.799973  430.990875 -110.740784   378.383209   \n",
       "1   212196       4     0.0 -96.799973    7.070888 -110.740784   -45.536797   \n",
       "2  3929509       2     0.0 -56.129971  164.690887   10.429214  1116.273193   \n",
       "3  2379697       2     0.0 -96.799973  100.290886 -110.740784    47.683201   \n",
       "\n",
       "            4            5         6  ...        246         247        248  \\\n",
       "0 -116.158249   357.278198 -16.08618  ... -37.630447 -291.747711 -25.832888   \n",
       "1 -116.158249   -66.641792 -16.08618  ... -37.630447 -195.747726 -24.832888   \n",
       "2    5.011754  1095.168213  24.58382  ... -37.630447 -302.747711 -24.832888   \n",
       "3 -116.158249    26.578211 -16.08618  ... -37.630447 -220.747726 -22.832888   \n",
       "\n",
       "        249        250      251  252  day  week  month  \n",
       "0 -0.694429 -12.175933 -0.45614  0.0    9     1      7  \n",
       "1 -0.694429 -11.175933 -0.45614  0.0    9     1      7  \n",
       "2 -0.694429 -11.175933 -0.45614  0.0    9     1      7  \n",
       "3 -0.694429 -10.175933 -0.45614  0.0    9     1      7  \n",
       "\n",
       "[4 rows x 259 columns]"
      ]
     },
     "execution_count": 42,
     "metadata": {},
     "output_type": "execute_result"
    }
   ],
   "source": [
    "train_data.head(4)"
   ]
  },
  {
   "cell_type": "markdown",
   "id": "d0986beb-b955-41e9-b884-8e964775007c",
   "metadata": {},
   "source": [
    "Сохраним в csv-файле полученный датасет train_data:"
   ]
  },
  {
   "cell_type": "code",
   "execution_count": 43,
   "id": "99da241b-2b49-4624-833d-32e464e9ed88",
   "metadata": {},
   "outputs": [],
   "source": [
    "train_data.to_csv('train_data_features.csv', index=False)"
   ]
  },
  {
   "cell_type": "markdown",
   "id": "9b437e72-985b-4a7a-b42e-05490801ab28",
   "metadata": {},
   "source": [
    "#### Обработка data_test"
   ]
  },
  {
   "cell_type": "markdown",
   "id": "1212e1e4-9627-4b19-bae6-4aba14be69a4",
   "metadata": {},
   "source": [
    "По аналогии с data_train обработаем и тестовый датасет:"
   ]
  },
  {
   "cell_type": "code",
   "execution_count": 44,
   "id": "3cd67b8a-b1db-4d26-82bc-7dab88d37c03",
   "metadata": {},
   "outputs": [],
   "source": [
    "data_test = pd.read_csv('data_test.csv')\n",
    "data_test = data_test.drop('Unnamed: 0', axis=1)\n",
    "\n",
    "data_test['date'] = data_test['buy_time'].apply(lambda x: date.fromtimestamp(x))\n",
    "\n",
    "ids_dict = {1.0: 1, 2.0: 2, 4.0: 3, 5.0: 4, 6.0: 5, 7.0: 6, 8.0: 7, 9.0: 8}\n",
    "data_test['vas_id'] = data_test['vas_id'].map(ids_dict)"
   ]
  },
  {
   "cell_type": "code",
   "execution_count": 45,
   "id": "64242e20-80a5-44b0-bc6d-76f0f9eafb22",
   "metadata": {},
   "outputs": [
    {
     "data": {
      "text/html": [
       "<div>\n",
       "<style scoped>\n",
       "    .dataframe tbody tr th:only-of-type {\n",
       "        vertical-align: middle;\n",
       "    }\n",
       "\n",
       "    .dataframe tbody tr th {\n",
       "        vertical-align: top;\n",
       "    }\n",
       "\n",
       "    .dataframe thead th {\n",
       "        text-align: right;\n",
       "    }\n",
       "</style>\n",
       "<table border=\"1\" class=\"dataframe\">\n",
       "  <thead>\n",
       "    <tr style=\"text-align: right;\">\n",
       "      <th></th>\n",
       "      <th>id</th>\n",
       "      <th>vas_id</th>\n",
       "      <th>buy_time</th>\n",
       "      <th>date</th>\n",
       "    </tr>\n",
       "  </thead>\n",
       "  <tbody>\n",
       "    <tr>\n",
       "      <th>0</th>\n",
       "      <td>3130519</td>\n",
       "      <td>2</td>\n",
       "      <td>1548018000</td>\n",
       "      <td>2019-01-21</td>\n",
       "    </tr>\n",
       "    <tr>\n",
       "      <th>1</th>\n",
       "      <td>2000860</td>\n",
       "      <td>3</td>\n",
       "      <td>1548018000</td>\n",
       "      <td>2019-01-21</td>\n",
       "    </tr>\n",
       "    <tr>\n",
       "      <th>2</th>\n",
       "      <td>1099444</td>\n",
       "      <td>2</td>\n",
       "      <td>1546808400</td>\n",
       "      <td>2019-01-07</td>\n",
       "    </tr>\n",
       "    <tr>\n",
       "      <th>3</th>\n",
       "      <td>1343255</td>\n",
       "      <td>4</td>\n",
       "      <td>1547413200</td>\n",
       "      <td>2019-01-14</td>\n",
       "    </tr>\n",
       "  </tbody>\n",
       "</table>\n",
       "</div>"
      ],
      "text/plain": [
       "        id  vas_id    buy_time        date\n",
       "0  3130519       2  1548018000  2019-01-21\n",
       "1  2000860       3  1548018000  2019-01-21\n",
       "2  1099444       2  1546808400  2019-01-07\n",
       "3  1343255       4  1547413200  2019-01-14"
      ]
     },
     "execution_count": 45,
     "metadata": {},
     "output_type": "execute_result"
    }
   ],
   "source": [
    "data_test.head(4)"
   ]
  },
  {
   "cell_type": "code",
   "execution_count": 46,
   "id": "9fb3d0c7-9a71-465a-8888-2956055759de",
   "metadata": {},
   "outputs": [
    {
     "name": "stdout",
     "output_type": "stream",
     "text": [
      "<class 'pandas.core.frame.DataFrame'>\n",
      "RangeIndex: 71231 entries, 0 to 71230\n",
      "Data columns (total 4 columns):\n",
      " #   Column    Non-Null Count  Dtype \n",
      "---  ------    --------------  ----- \n",
      " 0   id        71231 non-null  int64 \n",
      " 1   vas_id    71231 non-null  int64 \n",
      " 2   buy_time  71231 non-null  int64 \n",
      " 3   date      71231 non-null  object\n",
      "dtypes: int64(3), object(1)\n",
      "memory usage: 2.2+ MB\n"
     ]
    }
   ],
   "source": [
    "data_test.info()"
   ]
  },
  {
   "cell_type": "markdown",
   "id": "9f9eb06d-5140-439e-9f5e-61fd723626e9",
   "metadata": {},
   "source": [
    "Видим, что пропущенных значений нет."
   ]
  },
  {
   "cell_type": "code",
   "execution_count": 47,
   "id": "e5902eed-a547-45cd-875f-f16140d3c8cf",
   "metadata": {},
   "outputs": [],
   "source": [
    "features_test = dd.read_csv('D:/megafon/project/features.csv', sep='\\t')\n",
    "features_test = features_test.drop('Unnamed: 0', axis=1)\n",
    "\n",
    "ids_test = data_test['id'].unique()\n",
    "features_test = features_test.compute()\n",
    "features_test = features_test.loc[(features_test['id'].isin(ids_test))]\n",
    "\n",
    "data_test = data_test.sort_index().sort_values(by='buy_time')\n",
    "features_test = features_test.sort_values(by='buy_time')\n",
    "\n",
    "test_data = pd.merge_asof(data_test, features_test, on='buy_time', by='id', direction='nearest')\n",
    "\n",
    "test_data['day'] = test_data['date'].apply(lambda x: pd.to_datetime(x).day)\n",
    "test_data['week'] = test_data['date'].apply(lambda x: pd.to_datetime(x).day // 7)\n",
    "test_data['month'] = test_data['date'].apply(lambda x: pd.to_datetime(x).month)\n",
    "\n",
    "test_data = test_data.drop('buy_time', axis=1)\n",
    "test_data = test_data.drop('date', axis=1)\n",
    "\n",
    "test_data[test_data.select_dtypes(np.float64).columns] = test_data.select_dtypes(np.float64).astype(np.float32)"
   ]
  },
  {
   "cell_type": "code",
   "execution_count": 48,
   "id": "c652b836-bebc-43b2-8597-1f243c462873",
   "metadata": {},
   "outputs": [
    {
     "name": "stdout",
     "output_type": "stream",
     "text": [
      "<class 'pandas.core.frame.DataFrame'>\n",
      "Int64Index: 71231 entries, 0 to 71230\n",
      "Columns: 258 entries, id to month\n",
      "dtypes: float32(253), int64(5)\n",
      "memory usage: 72.0 MB\n"
     ]
    }
   ],
   "source": [
    "test_data.info()"
   ]
  },
  {
   "cell_type": "code",
   "execution_count": 49,
   "id": "e0532fea-0777-478d-9711-b2b0103cf467",
   "metadata": {},
   "outputs": [
    {
     "data": {
      "text/html": [
       "<div>\n",
       "<style scoped>\n",
       "    .dataframe tbody tr th:only-of-type {\n",
       "        vertical-align: middle;\n",
       "    }\n",
       "\n",
       "    .dataframe tbody tr th {\n",
       "        vertical-align: top;\n",
       "    }\n",
       "\n",
       "    .dataframe thead th {\n",
       "        text-align: right;\n",
       "    }\n",
       "</style>\n",
       "<table border=\"1\" class=\"dataframe\">\n",
       "  <thead>\n",
       "    <tr style=\"text-align: right;\">\n",
       "      <th></th>\n",
       "      <th>id</th>\n",
       "      <th>vas_id</th>\n",
       "      <th>0</th>\n",
       "      <th>1</th>\n",
       "      <th>2</th>\n",
       "      <th>3</th>\n",
       "      <th>4</th>\n",
       "      <th>5</th>\n",
       "      <th>6</th>\n",
       "      <th>7</th>\n",
       "      <th>...</th>\n",
       "      <th>246</th>\n",
       "      <th>247</th>\n",
       "      <th>248</th>\n",
       "      <th>249</th>\n",
       "      <th>250</th>\n",
       "      <th>251</th>\n",
       "      <th>252</th>\n",
       "      <th>day</th>\n",
       "      <th>week</th>\n",
       "      <th>month</th>\n",
       "    </tr>\n",
       "  </thead>\n",
       "  <tbody>\n",
       "    <tr>\n",
       "      <th>0</th>\n",
       "      <td>2905850</td>\n",
       "      <td>4</td>\n",
       "      <td>326.930023</td>\n",
       "      <td>227.410889</td>\n",
       "      <td>312.989227</td>\n",
       "      <td>200.223206</td>\n",
       "      <td>307.571747</td>\n",
       "      <td>179.118210</td>\n",
       "      <td>-16.08618</td>\n",
       "      <td>-65.076096</td>\n",
       "      <td>...</td>\n",
       "      <td>-18.630449</td>\n",
       "      <td>-209.747726</td>\n",
       "      <td>-15.832889</td>\n",
       "      <td>-0.694429</td>\n",
       "      <td>-2.175933</td>\n",
       "      <td>-0.45614</td>\n",
       "      <td>0.0</td>\n",
       "      <td>7</td>\n",
       "      <td>1</td>\n",
       "      <td>1</td>\n",
       "    </tr>\n",
       "    <tr>\n",
       "      <th>1</th>\n",
       "      <td>31619</td>\n",
       "      <td>2</td>\n",
       "      <td>-96.799973</td>\n",
       "      <td>100.290886</td>\n",
       "      <td>-62.040787</td>\n",
       "      <td>250.953201</td>\n",
       "      <td>-67.458244</td>\n",
       "      <td>229.848206</td>\n",
       "      <td>-16.08618</td>\n",
       "      <td>-65.076096</td>\n",
       "      <td>...</td>\n",
       "      <td>-37.630447</td>\n",
       "      <td>-306.747711</td>\n",
       "      <td>-25.832888</td>\n",
       "      <td>-0.694429</td>\n",
       "      <td>-12.175933</td>\n",
       "      <td>-0.45614</td>\n",
       "      <td>0.0</td>\n",
       "      <td>7</td>\n",
       "      <td>1</td>\n",
       "      <td>1</td>\n",
       "    </tr>\n",
       "    <tr>\n",
       "      <th>2</th>\n",
       "      <td>1427271</td>\n",
       "      <td>5</td>\n",
       "      <td>-87.299973</td>\n",
       "      <td>-368.999115</td>\n",
       "      <td>339.439209</td>\n",
       "      <td>48.733200</td>\n",
       "      <td>334.021759</td>\n",
       "      <td>27.628210</td>\n",
       "      <td>-16.08618</td>\n",
       "      <td>-65.076096</td>\n",
       "      <td>...</td>\n",
       "      <td>-37.630447</td>\n",
       "      <td>116.252274</td>\n",
       "      <td>25.167112</td>\n",
       "      <td>-0.694429</td>\n",
       "      <td>38.824066</td>\n",
       "      <td>-0.45614</td>\n",
       "      <td>0.0</td>\n",
       "      <td>7</td>\n",
       "      <td>1</td>\n",
       "      <td>1</td>\n",
       "    </tr>\n",
       "    <tr>\n",
       "      <th>3</th>\n",
       "      <td>2162521</td>\n",
       "      <td>5</td>\n",
       "      <td>-96.799973</td>\n",
       "      <td>-20.459112</td>\n",
       "      <td>-110.740784</td>\n",
       "      <td>-34.936798</td>\n",
       "      <td>-116.158249</td>\n",
       "      <td>-56.041790</td>\n",
       "      <td>-16.08618</td>\n",
       "      <td>-65.076096</td>\n",
       "      <td>...</td>\n",
       "      <td>-37.630447</td>\n",
       "      <td>-298.747711</td>\n",
       "      <td>-24.832888</td>\n",
       "      <td>-0.694429</td>\n",
       "      <td>-11.175933</td>\n",
       "      <td>-0.45614</td>\n",
       "      <td>0.0</td>\n",
       "      <td>7</td>\n",
       "      <td>1</td>\n",
       "      <td>1</td>\n",
       "    </tr>\n",
       "  </tbody>\n",
       "</table>\n",
       "<p>4 rows × 258 columns</p>\n",
       "</div>"
      ],
      "text/plain": [
       "        id  vas_id           0           1           2           3  \\\n",
       "0  2905850       4  326.930023  227.410889  312.989227  200.223206   \n",
       "1    31619       2  -96.799973  100.290886  -62.040787  250.953201   \n",
       "2  1427271       5  -87.299973 -368.999115  339.439209   48.733200   \n",
       "3  2162521       5  -96.799973  -20.459112 -110.740784  -34.936798   \n",
       "\n",
       "            4           5         6          7  ...        246         247  \\\n",
       "0  307.571747  179.118210 -16.08618 -65.076096  ... -18.630449 -209.747726   \n",
       "1  -67.458244  229.848206 -16.08618 -65.076096  ... -37.630447 -306.747711   \n",
       "2  334.021759   27.628210 -16.08618 -65.076096  ... -37.630447  116.252274   \n",
       "3 -116.158249  -56.041790 -16.08618 -65.076096  ... -37.630447 -298.747711   \n",
       "\n",
       "         248       249        250      251  252  day  week  month  \n",
       "0 -15.832889 -0.694429  -2.175933 -0.45614  0.0    7     1      1  \n",
       "1 -25.832888 -0.694429 -12.175933 -0.45614  0.0    7     1      1  \n",
       "2  25.167112 -0.694429  38.824066 -0.45614  0.0    7     1      1  \n",
       "3 -24.832888 -0.694429 -11.175933 -0.45614  0.0    7     1      1  \n",
       "\n",
       "[4 rows x 258 columns]"
      ]
     },
     "execution_count": 49,
     "metadata": {},
     "output_type": "execute_result"
    }
   ],
   "source": [
    "test_data.head(4)"
   ]
  },
  {
   "cell_type": "markdown",
   "id": "0053b75b-f1a1-4f8f-96b9-fea274887a2e",
   "metadata": {},
   "source": [
    "Сохраним в csv-файле полученный датасет test_data:"
   ]
  },
  {
   "cell_type": "code",
   "execution_count": 50,
   "id": "ff058278-708c-493a-9d13-b795bba27aec",
   "metadata": {},
   "outputs": [],
   "source": [
    "test_data.to_csv('test_data_features.csv', index=False)"
   ]
  },
  {
   "cell_type": "code",
   "execution_count": null,
   "id": "3ce7fbbe-7dba-44a4-a869-c77df3a7afb4",
   "metadata": {},
   "outputs": [],
   "source": []
  }
 ],
 "metadata": {
  "kernelspec": {
   "display_name": "Python 3 (ipykernel)",
   "language": "python",
   "name": "python3"
  },
  "language_info": {
   "codemirror_mode": {
    "name": "ipython",
    "version": 3
   },
   "file_extension": ".py",
   "mimetype": "text/x-python",
   "name": "python",
   "nbconvert_exporter": "python",
   "pygments_lexer": "ipython3",
   "version": "3.9.12"
  }
 },
 "nbformat": 4,
 "nbformat_minor": 5
}
